{
 "cells": [
  {
   "cell_type": "code",
   "execution_count": 1,
   "id": "2e424d92",
   "metadata": {},
   "outputs": [],
   "source": [
    "import warnings\n",
    "warnings.filterwarnings('ignore')"
   ]
  },
  {
   "cell_type": "code",
   "execution_count": 2,
   "id": "26ce5d79",
   "metadata": {},
   "outputs": [],
   "source": [
    "import pandas as pd \n",
    "import numpy as np\n",
    "import datetime as dt\n",
    "import seaborn as sns\n",
    "import matplotlib.pyplot as plt "
   ]
  },
  {
   "cell_type": "code",
   "execution_count": 3,
   "id": "6c3c5ddb",
   "metadata": {},
   "outputs": [
    {
     "data": {
      "text/html": [
       "<div>\n",
       "<style scoped>\n",
       "    .dataframe tbody tr th:only-of-type {\n",
       "        vertical-align: middle;\n",
       "    }\n",
       "\n",
       "    .dataframe tbody tr th {\n",
       "        vertical-align: top;\n",
       "    }\n",
       "\n",
       "    .dataframe thead th {\n",
       "        text-align: right;\n",
       "    }\n",
       "</style>\n",
       "<table border=\"1\" class=\"dataframe\">\n",
       "  <thead>\n",
       "    <tr style=\"text-align: right;\">\n",
       "      <th></th>\n",
       "      <th>status</th>\n",
       "      <th>created_at</th>\n",
       "      <th>sku</th>\n",
       "      <th>price</th>\n",
       "      <th>qty_ordered</th>\n",
       "      <th>grand_total</th>\n",
       "      <th>increment_id</th>\n",
       "      <th>category_name_1</th>\n",
       "      <th>sales_commission_code</th>\n",
       "      <th>discount_amount</th>\n",
       "      <th>...</th>\n",
       "      <th>Month</th>\n",
       "      <th>Customer Since</th>\n",
       "      <th>M-Y</th>\n",
       "      <th>FY</th>\n",
       "      <th>Customer ID</th>\n",
       "      <th>Unnamed: 21</th>\n",
       "      <th>Unnamed: 22</th>\n",
       "      <th>Unnamed: 23</th>\n",
       "      <th>Unnamed: 24</th>\n",
       "      <th>Unnamed: 25</th>\n",
       "    </tr>\n",
       "    <tr>\n",
       "      <th>item_id</th>\n",
       "      <th></th>\n",
       "      <th></th>\n",
       "      <th></th>\n",
       "      <th></th>\n",
       "      <th></th>\n",
       "      <th></th>\n",
       "      <th></th>\n",
       "      <th></th>\n",
       "      <th></th>\n",
       "      <th></th>\n",
       "      <th></th>\n",
       "      <th></th>\n",
       "      <th></th>\n",
       "      <th></th>\n",
       "      <th></th>\n",
       "      <th></th>\n",
       "      <th></th>\n",
       "      <th></th>\n",
       "      <th></th>\n",
       "      <th></th>\n",
       "      <th></th>\n",
       "    </tr>\n",
       "  </thead>\n",
       "  <tbody>\n",
       "    <tr>\n",
       "      <th>211131.0</th>\n",
       "      <td>complete</td>\n",
       "      <td>7/1/2016</td>\n",
       "      <td>kreations_YI 06-L</td>\n",
       "      <td>1950.0</td>\n",
       "      <td>1.0</td>\n",
       "      <td>1950.0</td>\n",
       "      <td>100147443</td>\n",
       "      <td>Women's Fashion</td>\n",
       "      <td>\\N</td>\n",
       "      <td>0.0</td>\n",
       "      <td>...</td>\n",
       "      <td>7.0</td>\n",
       "      <td>2016-7</td>\n",
       "      <td>7-2016</td>\n",
       "      <td>FY17</td>\n",
       "      <td>1.0</td>\n",
       "      <td>NaN</td>\n",
       "      <td>NaN</td>\n",
       "      <td>NaN</td>\n",
       "      <td>NaN</td>\n",
       "      <td>NaN</td>\n",
       "    </tr>\n",
       "  </tbody>\n",
       "</table>\n",
       "<p>1 rows × 25 columns</p>\n",
       "</div>"
      ],
      "text/plain": [
       "            status created_at                sku   price  qty_ordered  \\\n",
       "item_id                                                                 \n",
       "211131.0  complete   7/1/2016  kreations_YI 06-L  1950.0          1.0   \n",
       "\n",
       "          grand_total increment_id  category_name_1 sales_commission_code  \\\n",
       "item_id                                                                     \n",
       "211131.0       1950.0    100147443  Women's Fashion                    \\N   \n",
       "\n",
       "          discount_amount  ... Month Customer Since     M-Y    FY  \\\n",
       "item_id                    ...                                      \n",
       "211131.0              0.0  ...   7.0         2016-7  7-2016  FY17   \n",
       "\n",
       "          Customer ID  Unnamed: 21 Unnamed: 22 Unnamed: 23 Unnamed: 24  \\\n",
       "item_id                                                                  \n",
       "211131.0          1.0          NaN         NaN         NaN         NaN   \n",
       "\n",
       "          Unnamed: 25  \n",
       "item_id                \n",
       "211131.0          NaN  \n",
       "\n",
       "[1 rows x 25 columns]"
      ]
     },
     "execution_count": 3,
     "metadata": {},
     "output_type": "execute_result"
    }
   ],
   "source": [
    " \n",
    "\n",
    "df = pd.read_csv('C:/Users/Malki.T/Documents/workspace/00.run/Pakistan.csv', sep = ',', index_col='item_id')\n",
    "df.head(1)"
   ]
  },
  {
   "cell_type": "code",
   "execution_count": 4,
   "id": "308cfa12",
   "metadata": {},
   "outputs": [
    {
     "name": "stdout",
     "output_type": "stream",
     "text": [
      "<class 'pandas.core.frame.DataFrame'>\n",
      "Float64Index: 1048575 entries, 211131.0 to nan\n",
      "Data columns (total 25 columns):\n",
      " #   Column                 Non-Null Count   Dtype  \n",
      "---  ------                 --------------   -----  \n",
      " 0   status                 584509 non-null  object \n",
      " 1   created_at             584524 non-null  object \n",
      " 2   sku                    584504 non-null  object \n",
      " 3   price                  584524 non-null  float64\n",
      " 4   qty_ordered            584524 non-null  float64\n",
      " 5   grand_total            584524 non-null  float64\n",
      " 6   increment_id           584524 non-null  object \n",
      " 7   category_name_1        584360 non-null  object \n",
      " 8   sales_commission_code  447349 non-null  object \n",
      " 9   discount_amount        584524 non-null  float64\n",
      " 10  payment_method         584524 non-null  object \n",
      " 11  Working Date           584524 non-null  object \n",
      " 12  BI Status              584524 non-null  object \n",
      " 13   MV                    584524 non-null  object \n",
      " 14  Year                   584524 non-null  float64\n",
      " 15  Month                  584524 non-null  float64\n",
      " 16  Customer Since         584513 non-null  object \n",
      " 17  M-Y                    584524 non-null  object \n",
      " 18  FY                     584524 non-null  object \n",
      " 19  Customer ID            584513 non-null  float64\n",
      " 20  Unnamed: 21            0 non-null       float64\n",
      " 21  Unnamed: 22            0 non-null       float64\n",
      " 22  Unnamed: 23            0 non-null       float64\n",
      " 23  Unnamed: 24            0 non-null       float64\n",
      " 24  Unnamed: 25            0 non-null       float64\n",
      "dtypes: float64(12), object(13)\n",
      "memory usage: 208.0+ MB\n"
     ]
    }
   ],
   "source": [
    "df.info()"
   ]
  },
  {
   "cell_type": "markdown",
   "id": "5aa2424c",
   "metadata": {},
   "source": [
    "# Data Cleaning"
   ]
  },
  {
   "cell_type": "code",
   "execution_count": 5,
   "id": "9480f8d0",
   "metadata": {},
   "outputs": [],
   "source": [
    "df.dropna(how='all', inplace= True)"
   ]
  },
  {
   "cell_type": "code",
   "execution_count": 6,
   "id": "b8df1314",
   "metadata": {},
   "outputs": [
    {
     "data": {
      "text/plain": [
       "status            0\n",
       "created_at        0\n",
       "articles          0\n",
       "price             0\n",
       "qty_ordered       0\n",
       "amount            0\n",
       "category_name     0\n",
       "payment_method    0\n",
       "Working_Date      0\n",
       "Customer_Since    0\n",
       "date              0\n",
       "Customer_ID       0\n",
       "dtype: int64"
      ]
     },
     "execution_count": 6,
     "metadata": {},
     "output_type": "execute_result"
    }
   ],
   "source": [
    "df.drop(columns=['increment_id', 'sales_commission_code','discount_amount','BI Status',' MV ','Year', 'Month', 'FY',\n",
    "                 'Unnamed: 21','Unnamed: 22','Unnamed: 23','Unnamed: 24','Unnamed: 25' ],axis=1,inplace=True)\n",
    "\n",
    "df.rename(columns={'sku': 'articles','grand_total':'amount','category_name_1': 'category_name','Working Date': 'Working_Date',\n",
    "                   'Customer Since': 'Customer_Since','Customer ID': 'Customer_ID','M-Y': 'date'}, inplace=True)\n",
    "df['qty_ordered']=df['qty_ordered'].astype(int)\n",
    "\n",
    "index_with_nan = df.index[df.isnull().any(axis=1)]\n",
    "df.drop(index_with_nan,0, inplace=True)\n",
    "df.isnull().sum()\n",
    "\n"
   ]
  },
  {
   "cell_type": "code",
   "execution_count": 7,
   "id": "e5dc416f",
   "metadata": {},
   "outputs": [],
   "source": [
    "product_group=df.groupby('category_name')\n"
   ]
  },
  {
   "cell_type": "code",
   "execution_count": 202,
   "id": "2e6d0d6a",
   "metadata": {},
   "outputs": [
    {
     "data": {
      "image/png": "[encoded data removed]",
      "text/plain": [
       "<Figure size 432x288 with 1 Axes>"
      ]
     },
     "metadata": {
      "needs_background": "light"
     },
     "output_type": "display_data"
    }
   ],
   "source": [
    "quantity_ordered=product_group.sum()['qty_ordered']\n",
    "products=[product for product , X in product_group]\n",
    "plt.bar(products,quantity_ordered)\n",
    "\n",
    "ax3.set_xlabel('Category Name')\n",
    "ax3.set_ylabel('Quantity Ordered', color='g')\n",
    "plt.xticks(rotation=45, ha='right');"
   ]
  },
  {
   "cell_type": "code",
   "execution_count": 219,
   "id": "5a86dd2c",
   "metadata": {},
   "outputs": [
    {
     "data": {
      "image/png": "[encoded data removed]",
      "text/plain": [
       "<Figure size 1440x576 with 2 Axes>"
      ]
     },
     "metadata": {
      "needs_background": "light"
     },
     "output_type": "display_data"
    }
   ],
   "source": [
    "\n",
    "prices=product_group.mean()['price']\n",
    "\n",
    "fig,ax3=plt.subplots(figsize=(20,8))\n",
    "\n",
    "ax4=ax3.twinx()\n",
    "ax3.bar(products,quantity_ordered, color='g')\n",
    "ax4.plot(products,prices, 'b-')\n",
    "\n",
    "ax3.set_xlabel('Category Name')\n",
    "ax3.set_ylabel('Quantity Ordered', color='g')\n",
    "ax4.set_ylabel('Price ', color='b')\n",
    "ax3.set_xticklabels(df.category_name, rotation='45',ha='right', size=8);\n",
    "#ax3.set_xticklabels(df.category_name, rotation='45', rotation_mode=\"anchor\");"
   ]
  },
  {
   "cell_type": "code",
   "execution_count": 10,
   "id": "3b7ef06e",
   "metadata": {},
   "outputs": [
    {
     "data": {
      "text/html": [
       "<div>\n",
       "<style scoped>\n",
       "    .dataframe tbody tr th:only-of-type {\n",
       "        vertical-align: middle;\n",
       "    }\n",
       "\n",
       "    .dataframe tbody tr th {\n",
       "        vertical-align: top;\n",
       "    }\n",
       "\n",
       "    .dataframe thead th {\n",
       "        text-align: right;\n",
       "    }\n",
       "</style>\n",
       "<table border=\"1\" class=\"dataframe\">\n",
       "  <thead>\n",
       "    <tr style=\"text-align: right;\">\n",
       "      <th></th>\n",
       "      <th>amount</th>\n",
       "    </tr>\n",
       "    <tr>\n",
       "      <th>category_name</th>\n",
       "      <th></th>\n",
       "    </tr>\n",
       "  </thead>\n",
       "  <tbody>\n",
       "    <tr>\n",
       "      <th>Mobiles &amp; Tablets</th>\n",
       "      <td>2.440777e+09</td>\n",
       "    </tr>\n",
       "    <tr>\n",
       "      <th>Appliances</th>\n",
       "      <td>6.568497e+08</td>\n",
       "    </tr>\n",
       "    <tr>\n",
       "      <th>Entertainment</th>\n",
       "      <td>5.389914e+08</td>\n",
       "    </tr>\n",
       "    <tr>\n",
       "      <th>Women's Fashion</th>\n",
       "      <td>2.825768e+08</td>\n",
       "    </tr>\n",
       "    <tr>\n",
       "      <th>Computing</th>\n",
       "      <td>2.025457e+08</td>\n",
       "    </tr>\n",
       "    <tr>\n",
       "      <th>Men's Fashion</th>\n",
       "      <td>1.941367e+08</td>\n",
       "    </tr>\n",
       "    <tr>\n",
       "      <th>Others</th>\n",
       "      <td>1.924014e+08</td>\n",
       "    </tr>\n",
       "    <tr>\n",
       "      <th>Superstore</th>\n",
       "      <td>1.121146e+08</td>\n",
       "    </tr>\n",
       "    <tr>\n",
       "      <th>Beauty &amp; Grooming</th>\n",
       "      <td>9.718264e+07</td>\n",
       "    </tr>\n",
       "    <tr>\n",
       "      <th>Home &amp; Living</th>\n",
       "      <td>8.821708e+07</td>\n",
       "    </tr>\n",
       "    <tr>\n",
       "      <th>Kids &amp; Baby</th>\n",
       "      <td>4.722390e+07</td>\n",
       "    </tr>\n",
       "    <tr>\n",
       "      <th>Soghaat</th>\n",
       "      <td>4.634325e+07</td>\n",
       "    </tr>\n",
       "    <tr>\n",
       "      <th>Health &amp; Sports</th>\n",
       "      <td>4.179475e+07</td>\n",
       "    </tr>\n",
       "    <tr>\n",
       "      <th>\\N</th>\n",
       "      <td>3.582056e+07</td>\n",
       "    </tr>\n",
       "    <tr>\n",
       "      <th>School &amp; Education</th>\n",
       "      <td>6.237084e+06</td>\n",
       "    </tr>\n",
       "    <tr>\n",
       "      <th>Books</th>\n",
       "      <td>2.676195e+06</td>\n",
       "    </tr>\n",
       "  </tbody>\n",
       "</table>\n",
       "</div>"
      ],
      "text/plain": [
       "                          amount\n",
       "category_name                   \n",
       "Mobiles & Tablets   2.440777e+09\n",
       "Appliances          6.568497e+08\n",
       "Entertainment       5.389914e+08\n",
       "Women's Fashion     2.825768e+08\n",
       "Computing           2.025457e+08\n",
       "Men's Fashion       1.941367e+08\n",
       "Others              1.924014e+08\n",
       "Superstore          1.121146e+08\n",
       "Beauty & Grooming   9.718264e+07\n",
       "Home & Living       8.821708e+07\n",
       "Kids & Baby         4.722390e+07\n",
       "Soghaat             4.634325e+07\n",
       "Health & Sports     4.179475e+07\n",
       "\\N                  3.582056e+07\n",
       "School & Education  6.237084e+06\n",
       "Books               2.676195e+06"
      ]
     },
     "execution_count": 10,
     "metadata": {},
     "output_type": "execute_result"
    }
   ],
   "source": [
    "df['created_at']= pd.to_datetime(df['created_at'])\n",
    "df['Working_Date']= pd.to_datetime(df['Working_Date'])\n",
    "df['Customer_Since']= pd.to_datetime(df['Customer_Since'])\n",
    "df['date']= pd.to_datetime(df['date'])\n",
    "\n",
    "df['Year'] = df['created_at'].dt.year\n",
    "df['Month'] = df['created_at'].dt.month\n",
    "df['Day']  = df['created_at'].dt.day\n",
    "\n",
    "product_revenue = df[['amount','category_name']].groupby('category_name').sum().sort_values(ascending=False,by='amount')\n",
    "product_revenue"
   ]
  },
  {
   "cell_type": "code",
   "execution_count": 239,
   "id": "78bc1122",
   "metadata": {},
   "outputs": [
    {
     "data": {
      "image/png": "[encoded data removed]",
      "text/plain": [
       "<Figure size 432x288 with 1 Axes>"
      ]
     },
     "metadata": {
      "needs_background": "light"
     },
     "output_type": "display_data"
    }
   ],
   "source": [
    "df['Month'].value_counts().sort_values().plot(kind='bar', xlabel='Month', ylabel='volume des ventes', title='Volume des ventes/mois');"
   ]
  },
  {
   "cell_type": "code",
   "execution_count": 189,
   "id": "7dda2dba",
   "metadata": {},
   "outputs": [
    {
     "data": {
      "text/plain": [
       "[2016, 2017, 2018]"
      ]
     },
     "execution_count": 189,
     "metadata": {},
     "output_type": "execute_result"
    }
   ],
   "source": [
    "years = [unique for unique in df.Year.unique()]\n",
    "years"
   ]
  },
  {
   "cell_type": "code",
   "execution_count": 190,
   "id": "4c71965d",
   "metadata": {},
   "outputs": [],
   "source": [
    "def plot_trend(years:list, df):\n",
    "    for year in years:\n",
    "        new_df = df[df['Year'] == year]\n",
    "        new_df.groupby('created_at')['amount'].sum().plot(linewidth=1.2, \n",
    "                                             ylabel='CA', \n",
    "                                             xlabel='Date', \n",
    "                                             title='Sales Trend');\n"
   ]
  },
  {
   "cell_type": "code",
   "execution_count": 232,
   "id": "a873bf44",
   "metadata": {},
   "outputs": [
    {
     "data": {
      "image/png": "[encoded data removed]",
      "text/plain": [
       "<Figure size 1584x576 with 1 Axes>"
      ]
     },
     "metadata": {
      "needs_background": "light"
     },
     "output_type": "display_data"
    }
   ],
   "source": [
    "import matplotlib.patches as patches\n",
    "plt.subplots(figsize=(22,8))\n",
    "year1 = patches.Patch(label='2016')\n",
    "year2 = patches.Patch( label='2017')\n",
    "year3 = patches.Patch( label='2018')\n",
    "plot_trend(years, df)\n",
    "\n"
   ]
  },
  {
   "cell_type": "markdown",
   "id": "cc298483",
   "metadata": {},
   "source": [
    "# RFM Segmentation"
   ]
  },
  {
   "cell_type": "code",
   "execution_count": 13,
   "id": "d9a7831f",
   "metadata": {},
   "outputs": [
    {
     "data": {
      "text/html": [
       "<div>\n",
       "<style scoped>\n",
       "    .dataframe tbody tr th:only-of-type {\n",
       "        vertical-align: middle;\n",
       "    }\n",
       "\n",
       "    .dataframe tbody tr th {\n",
       "        vertical-align: top;\n",
       "    }\n",
       "\n",
       "    .dataframe thead th {\n",
       "        text-align: right;\n",
       "    }\n",
       "</style>\n",
       "<table border=\"1\" class=\"dataframe\">\n",
       "  <thead>\n",
       "    <tr style=\"text-align: right;\">\n",
       "      <th></th>\n",
       "      <th>Customer_ID</th>\n",
       "      <th>price</th>\n",
       "      <th>amount</th>\n",
       "      <th>date</th>\n",
       "      <th>qty_ordered</th>\n",
       "    </tr>\n",
       "    <tr>\n",
       "      <th>item_id</th>\n",
       "      <th></th>\n",
       "      <th></th>\n",
       "      <th></th>\n",
       "      <th></th>\n",
       "      <th></th>\n",
       "    </tr>\n",
       "  </thead>\n",
       "  <tbody>\n",
       "    <tr>\n",
       "      <th>211131.0</th>\n",
       "      <td>1.0</td>\n",
       "      <td>1950.00</td>\n",
       "      <td>1950.00</td>\n",
       "      <td>2016-07-01</td>\n",
       "      <td>1</td>\n",
       "    </tr>\n",
       "    <tr>\n",
       "      <th>211133.0</th>\n",
       "      <td>2.0</td>\n",
       "      <td>240.00</td>\n",
       "      <td>240.00</td>\n",
       "      <td>2016-07-01</td>\n",
       "      <td>1</td>\n",
       "    </tr>\n",
       "    <tr>\n",
       "      <th>211134.0</th>\n",
       "      <td>3.0</td>\n",
       "      <td>2450.00</td>\n",
       "      <td>2450.00</td>\n",
       "      <td>2016-07-01</td>\n",
       "      <td>1</td>\n",
       "    </tr>\n",
       "    <tr>\n",
       "      <th>211135.0</th>\n",
       "      <td>4.0</td>\n",
       "      <td>360.00</td>\n",
       "      <td>60.00</td>\n",
       "      <td>2016-07-01</td>\n",
       "      <td>1</td>\n",
       "    </tr>\n",
       "    <tr>\n",
       "      <th>211136.0</th>\n",
       "      <td>5.0</td>\n",
       "      <td>555.00</td>\n",
       "      <td>1110.00</td>\n",
       "      <td>2016-07-01</td>\n",
       "      <td>2</td>\n",
       "    </tr>\n",
       "    <tr>\n",
       "      <th>211137.0</th>\n",
       "      <td>6.0</td>\n",
       "      <td>80.00</td>\n",
       "      <td>80.00</td>\n",
       "      <td>2016-07-01</td>\n",
       "      <td>1</td>\n",
       "    </tr>\n",
       "    <tr>\n",
       "      <th>211138.0</th>\n",
       "      <td>7.0</td>\n",
       "      <td>360.00</td>\n",
       "      <td>60.00</td>\n",
       "      <td>2016-07-01</td>\n",
       "      <td>1</td>\n",
       "    </tr>\n",
       "    <tr>\n",
       "      <th>211139.0</th>\n",
       "      <td>6.0</td>\n",
       "      <td>170.00</td>\n",
       "      <td>170.00</td>\n",
       "      <td>2016-07-01</td>\n",
       "      <td>1</td>\n",
       "    </tr>\n",
       "    <tr>\n",
       "      <th>211140.0</th>\n",
       "      <td>8.0</td>\n",
       "      <td>96499.00</td>\n",
       "      <td>96499.00</td>\n",
       "      <td>2016-07-01</td>\n",
       "      <td>1</td>\n",
       "    </tr>\n",
       "    <tr>\n",
       "      <th>211141.0</th>\n",
       "      <td>8.0</td>\n",
       "      <td>96499.00</td>\n",
       "      <td>96499.00</td>\n",
       "      <td>2016-07-01</td>\n",
       "      <td>1</td>\n",
       "    </tr>\n",
       "    <tr>\n",
       "      <th>211142.0</th>\n",
       "      <td>9.0</td>\n",
       "      <td>5500.00</td>\n",
       "      <td>5500.00</td>\n",
       "      <td>2016-07-01</td>\n",
       "      <td>1</td>\n",
       "    </tr>\n",
       "    <tr>\n",
       "      <th>211143.0</th>\n",
       "      <td>10.0</td>\n",
       "      <td>210.00</td>\n",
       "      <td>366.00</td>\n",
       "      <td>2016-07-01</td>\n",
       "      <td>1</td>\n",
       "    </tr>\n",
       "    <tr>\n",
       "      <th>211144.0</th>\n",
       "      <td>10.0</td>\n",
       "      <td>156.00</td>\n",
       "      <td>366.00</td>\n",
       "      <td>2016-07-01</td>\n",
       "      <td>1</td>\n",
       "    </tr>\n",
       "    <tr>\n",
       "      <th>211145.0</th>\n",
       "      <td>11.0</td>\n",
       "      <td>120.00</td>\n",
       "      <td>120.00</td>\n",
       "      <td>2016-07-01</td>\n",
       "      <td>1</td>\n",
       "    </tr>\n",
       "    <tr>\n",
       "      <th>211146.0</th>\n",
       "      <td>12.0</td>\n",
       "      <td>320.00</td>\n",
       "      <td>0.00</td>\n",
       "      <td>2016-07-01</td>\n",
       "      <td>1</td>\n",
       "    </tr>\n",
       "    <tr>\n",
       "      <th>211147.0</th>\n",
       "      <td>11.0</td>\n",
       "      <td>1550.00</td>\n",
       "      <td>1550.00</td>\n",
       "      <td>2016-07-01</td>\n",
       "      <td>1</td>\n",
       "    </tr>\n",
       "    <tr>\n",
       "      <th>211149.0</th>\n",
       "      <td>13.0</td>\n",
       "      <td>420.00</td>\n",
       "      <td>1270.00</td>\n",
       "      <td>2016-07-01</td>\n",
       "      <td>1</td>\n",
       "    </tr>\n",
       "    <tr>\n",
       "      <th>211150.0</th>\n",
       "      <td>13.0</td>\n",
       "      <td>360.00</td>\n",
       "      <td>1270.00</td>\n",
       "      <td>2016-07-01</td>\n",
       "      <td>1</td>\n",
       "    </tr>\n",
       "    <tr>\n",
       "      <th>211151.0</th>\n",
       "      <td>13.0</td>\n",
       "      <td>490.00</td>\n",
       "      <td>1270.00</td>\n",
       "      <td>2016-07-01</td>\n",
       "      <td>1</td>\n",
       "    </tr>\n",
       "    <tr>\n",
       "      <th>211152.0</th>\n",
       "      <td>14.0</td>\n",
       "      <td>899.25</td>\n",
       "      <td>2118.25</td>\n",
       "      <td>2016-07-01</td>\n",
       "      <td>1</td>\n",
       "    </tr>\n",
       "  </tbody>\n",
       "</table>\n",
       "</div>"
      ],
      "text/plain": [
       "          Customer_ID     price    amount       date  qty_ordered\n",
       "item_id                                                          \n",
       "211131.0          1.0   1950.00   1950.00 2016-07-01            1\n",
       "211133.0          2.0    240.00    240.00 2016-07-01            1\n",
       "211134.0          3.0   2450.00   2450.00 2016-07-01            1\n",
       "211135.0          4.0    360.00     60.00 2016-07-01            1\n",
       "211136.0          5.0    555.00   1110.00 2016-07-01            2\n",
       "211137.0          6.0     80.00     80.00 2016-07-01            1\n",
       "211138.0          7.0    360.00     60.00 2016-07-01            1\n",
       "211139.0          6.0    170.00    170.00 2016-07-01            1\n",
       "211140.0          8.0  96499.00  96499.00 2016-07-01            1\n",
       "211141.0          8.0  96499.00  96499.00 2016-07-01            1\n",
       "211142.0          9.0   5500.00   5500.00 2016-07-01            1\n",
       "211143.0         10.0    210.00    366.00 2016-07-01            1\n",
       "211144.0         10.0    156.00    366.00 2016-07-01            1\n",
       "211145.0         11.0    120.00    120.00 2016-07-01            1\n",
       "211146.0         12.0    320.00      0.00 2016-07-01            1\n",
       "211147.0         11.0   1550.00   1550.00 2016-07-01            1\n",
       "211149.0         13.0    420.00   1270.00 2016-07-01            1\n",
       "211150.0         13.0    360.00   1270.00 2016-07-01            1\n",
       "211151.0         13.0    490.00   1270.00 2016-07-01            1\n",
       "211152.0         14.0    899.25   2118.25 2016-07-01            1"
      ]
     },
     "execution_count": 13,
     "metadata": {},
     "output_type": "execute_result"
    }
   ],
   "source": [
    "temp=['Customer_ID','price', 'amount', 'date', 'qty_ordered']\n",
    "RFM_data=df[temp]\n",
    "RFM_data.shape\n",
    "RFM_data.head(20)"
   ]
  },
  {
   "cell_type": "code",
   "execution_count": 14,
   "id": "ae5ed05e",
   "metadata": {},
   "outputs": [
    {
     "data": {
      "text/plain": [
       "Timestamp('2018-08-01 00:00:00')"
      ]
     },
     "execution_count": 14,
     "metadata": {},
     "output_type": "execute_result"
    }
   ],
   "source": [
    "RFM_data[\"date\"].max()"
   ]
  },
  {
   "cell_type": "code",
   "execution_count": 15,
   "id": "880cf1c9",
   "metadata": {},
   "outputs": [
    {
     "data": {
      "text/plain": [
       "Timestamp('2018-08-28 00:00:00')"
      ]
     },
     "execution_count": 15,
     "metadata": {},
     "output_type": "execute_result"
    }
   ],
   "source": [
    "df['Working_Date'].max()"
   ]
  },
  {
   "cell_type": "code",
   "execution_count": 16,
   "id": "5830ca09",
   "metadata": {},
   "outputs": [
    {
     "data": {
      "text/plain": [
       "Timestamp('2016-07-01 00:00:00')"
      ]
     },
     "execution_count": 16,
     "metadata": {},
     "output_type": "execute_result"
    }
   ],
   "source": [
    "RFM_data['date'].min()"
   ]
  },
  {
   "cell_type": "code",
   "execution_count": 17,
   "id": "84289f9f",
   "metadata": {},
   "outputs": [
    {
     "data": {
      "text/plain": [
       "Timestamp('2016-07-01 00:00:00')"
      ]
     },
     "execution_count": 17,
     "metadata": {},
     "output_type": "execute_result"
    }
   ],
   "source": [
    "df['Working_Date'].min()"
   ]
  },
  {
   "cell_type": "code",
   "execution_count": 14,
   "id": "8597833d",
   "metadata": {},
   "outputs": [
    {
     "data": {
      "text/html": [
       "<div>\n",
       "<style scoped>\n",
       "    .dataframe tbody tr th:only-of-type {\n",
       "        vertical-align: middle;\n",
       "    }\n",
       "\n",
       "    .dataframe tbody tr th {\n",
       "        vertical-align: top;\n",
       "    }\n",
       "\n",
       "    .dataframe thead th {\n",
       "        text-align: right;\n",
       "    }\n",
       "</style>\n",
       "<table border=\"1\" class=\"dataframe\">\n",
       "  <thead>\n",
       "    <tr style=\"text-align: right;\">\n",
       "      <th></th>\n",
       "      <th>recency</th>\n",
       "      <th>frequency</th>\n",
       "      <th>monetary</th>\n",
       "    </tr>\n",
       "    <tr>\n",
       "      <th>Customer_ID</th>\n",
       "      <th></th>\n",
       "      <th></th>\n",
       "      <th></th>\n",
       "    </tr>\n",
       "  </thead>\n",
       "  <tbody>\n",
       "    <tr>\n",
       "      <th>1.0</th>\n",
       "      <td>788</td>\n",
       "      <td>1</td>\n",
       "      <td>1950.00</td>\n",
       "    </tr>\n",
       "    <tr>\n",
       "      <th>2.0</th>\n",
       "      <td>665</td>\n",
       "      <td>1</td>\n",
       "      <td>510.00</td>\n",
       "    </tr>\n",
       "    <tr>\n",
       "      <th>3.0</th>\n",
       "      <td>484</td>\n",
       "      <td>1</td>\n",
       "      <td>7430.00</td>\n",
       "    </tr>\n",
       "    <tr>\n",
       "      <th>4.0</th>\n",
       "      <td>27</td>\n",
       "      <td>5</td>\n",
       "      <td>2567596.45</td>\n",
       "    </tr>\n",
       "    <tr>\n",
       "      <th>5.0</th>\n",
       "      <td>788</td>\n",
       "      <td>1</td>\n",
       "      <td>1110.00</td>\n",
       "    </tr>\n",
       "  </tbody>\n",
       "</table>\n",
       "</div>"
      ],
      "text/plain": [
       "             recency  frequency    monetary\n",
       "Customer_ID                                \n",
       "1.0              788          1     1950.00\n",
       "2.0              665          1      510.00\n",
       "3.0              484          1     7430.00\n",
       "4.0               27          5  2567596.45\n",
       "5.0              788          1     1110.00"
      ]
     },
     "execution_count": 14,
     "metadata": {},
     "output_type": "execute_result"
    }
   ],
   "source": [
    "NOW = dt.datetime(2018,8,28)\n",
    "\n",
    "# RFM Table\n",
    "RFM_table=RFM_data.groupby('Customer_ID').agg({'date': lambda x: (NOW - x.max()).days, # Recency\n",
    "                                                'qty_ordered': lambda x: len(x.unique()), # Frequency\n",
    "                                                'amount': lambda x: x.sum()})    # Monetary \n",
    "\n",
    "RFM_table['date'] = RFM_table['date'].astype(int)\n",
    "\n",
    "RFM_table.rename(columns={'date': 'recency', \n",
    "                         'qty_ordered': 'frequency',\n",
    "                         'amount': 'monetary'}, inplace=True)\n",
    "RFM_table.head()"
   ]
  },
  {
   "cell_type": "code",
   "execution_count": 15,
   "id": "5f322460",
   "metadata": {},
   "outputs": [
    {
     "data": {
      "text/html": [
       "<div>\n",
       "<style scoped>\n",
       "    .dataframe tbody tr th:only-of-type {\n",
       "        vertical-align: middle;\n",
       "    }\n",
       "\n",
       "    .dataframe tbody tr th {\n",
       "        vertical-align: top;\n",
       "    }\n",
       "\n",
       "    .dataframe thead th {\n",
       "        text-align: right;\n",
       "    }\n",
       "</style>\n",
       "<table border=\"1\" class=\"dataframe\">\n",
       "  <thead>\n",
       "    <tr style=\"text-align: right;\">\n",
       "      <th></th>\n",
       "      <th>recency</th>\n",
       "      <th>frequency</th>\n",
       "      <th>monetary</th>\n",
       "      <th>R_score</th>\n",
       "      <th>F_score</th>\n",
       "      <th>M_score</th>\n",
       "      <th>R_norm</th>\n",
       "      <th>F_norm</th>\n",
       "      <th>M_norm</th>\n",
       "    </tr>\n",
       "    <tr>\n",
       "      <th>Customer_ID</th>\n",
       "      <th></th>\n",
       "      <th></th>\n",
       "      <th></th>\n",
       "      <th></th>\n",
       "      <th></th>\n",
       "      <th></th>\n",
       "      <th></th>\n",
       "      <th></th>\n",
       "      <th></th>\n",
       "    </tr>\n",
       "  </thead>\n",
       "  <tbody>\n",
       "    <tr>\n",
       "      <th>1.0</th>\n",
       "      <td>788</td>\n",
       "      <td>1</td>\n",
       "      <td>1950.00</td>\n",
       "      <td>666.0</td>\n",
       "      <td>50084.0</td>\n",
       "      <td>36807.5</td>\n",
       "      <td>0.585891</td>\n",
       "      <td>43.436481</td>\n",
       "      <td>43.436481</td>\n",
       "    </tr>\n",
       "    <tr>\n",
       "      <th>2.0</th>\n",
       "      <td>665</td>\n",
       "      <td>1</td>\n",
       "      <td>510.00</td>\n",
       "      <td>13685.5</td>\n",
       "      <td>50084.0</td>\n",
       "      <td>8135.5</td>\n",
       "      <td>12.039359</td>\n",
       "      <td>43.436481</td>\n",
       "      <td>43.436481</td>\n",
       "    </tr>\n",
       "    <tr>\n",
       "      <th>3.0</th>\n",
       "      <td>484</td>\n",
       "      <td>1</td>\n",
       "      <td>7430.00</td>\n",
       "      <td>37076.5</td>\n",
       "      <td>50084.0</td>\n",
       "      <td>66039.0</td>\n",
       "      <td>32.616804</td>\n",
       "      <td>43.436481</td>\n",
       "      <td>43.436481</td>\n",
       "    </tr>\n",
       "    <tr>\n",
       "      <th>4.0</th>\n",
       "      <td>27</td>\n",
       "      <td>5</td>\n",
       "      <td>2567596.45</td>\n",
       "      <td>113673.0</td>\n",
       "      <td>115060.0</td>\n",
       "      <td>115128.0</td>\n",
       "      <td>100.000000</td>\n",
       "      <td>99.788385</td>\n",
       "      <td>99.788385</td>\n",
       "    </tr>\n",
       "    <tr>\n",
       "      <th>5.0</th>\n",
       "      <td>788</td>\n",
       "      <td>1</td>\n",
       "      <td>1110.00</td>\n",
       "      <td>666.0</td>\n",
       "      <td>50084.0</td>\n",
       "      <td>24605.0</td>\n",
       "      <td>0.585891</td>\n",
       "      <td>43.436481</td>\n",
       "      <td>43.436481</td>\n",
       "    </tr>\n",
       "  </tbody>\n",
       "</table>\n",
       "</div>"
      ],
      "text/plain": [
       "             recency  frequency    monetary   R_score   F_score   M_score  \\\n",
       "Customer_ID                                                                 \n",
       "1.0              788          1     1950.00     666.0   50084.0   36807.5   \n",
       "2.0              665          1      510.00   13685.5   50084.0    8135.5   \n",
       "3.0              484          1     7430.00   37076.5   50084.0   66039.0   \n",
       "4.0               27          5  2567596.45  113673.0  115060.0  115128.0   \n",
       "5.0              788          1     1110.00     666.0   50084.0   24605.0   \n",
       "\n",
       "                 R_norm     F_norm     M_norm  \n",
       "Customer_ID                                    \n",
       "1.0            0.585891  43.436481  43.436481  \n",
       "2.0           12.039359  43.436481  43.436481  \n",
       "3.0           32.616804  43.436481  43.436481  \n",
       "4.0          100.000000  99.788385  99.788385  \n",
       "5.0            0.585891  43.436481  43.436481  "
      ]
     },
     "execution_count": 15,
     "metadata": {},
     "output_type": "execute_result"
    }
   ],
   "source": [
    "RFM_table['R_score'] = RFM_table['recency'].rank(ascending=False)\n",
    "RFM_table['F_score'] = RFM_table['frequency'].rank(ascending=True)\n",
    "RFM_table['M_score'] = RFM_table['monetary'].rank(ascending=True)\n",
    " \n",
    "# normalizing the rank of the customers\n",
    "RFM_table['R_norm'] = (RFM_table['R_score']/RFM_table['R_score'].max())*100\n",
    "RFM_table['F_norm'] = (RFM_table['F_score']/RFM_table['F_score'].max())*100\n",
    "RFM_table['M_norm'] = (RFM_table['F_score']/RFM_table['M_score'].max())*100\n",
    " \n",
    "RFM_table.drop(columns=['R_score', 'F_score', 'M_score'])\n",
    " \n",
    "RFM_table.head()"
   ]
  },
  {
   "cell_type": "code",
   "execution_count": 16,
   "id": "11ae451e",
   "metadata": {},
   "outputs": [
    {
     "data": {
      "text/html": [
       "<div>\n",
       "<style scoped>\n",
       "    .dataframe tbody tr th:only-of-type {\n",
       "        vertical-align: middle;\n",
       "    }\n",
       "\n",
       "    .dataframe tbody tr th {\n",
       "        vertical-align: top;\n",
       "    }\n",
       "\n",
       "    .dataframe thead th {\n",
       "        text-align: right;\n",
       "    }\n",
       "</style>\n",
       "<table border=\"1\" class=\"dataframe\">\n",
       "  <thead>\n",
       "    <tr style=\"text-align: right;\">\n",
       "      <th></th>\n",
       "      <th>Customer_ID</th>\n",
       "      <th>recency</th>\n",
       "      <th>frequency</th>\n",
       "      <th>monetary</th>\n",
       "      <th>R_score</th>\n",
       "      <th>F_score</th>\n",
       "      <th>M_score</th>\n",
       "      <th>R_norm</th>\n",
       "      <th>F_norm</th>\n",
       "      <th>M_norm</th>\n",
       "    </tr>\n",
       "  </thead>\n",
       "  <tbody>\n",
       "    <tr>\n",
       "      <th>0</th>\n",
       "      <td>1.0</td>\n",
       "      <td>788</td>\n",
       "      <td>1</td>\n",
       "      <td>1950.0</td>\n",
       "      <td>666.0</td>\n",
       "      <td>50084.0</td>\n",
       "      <td>36807.5</td>\n",
       "      <td>0.585891</td>\n",
       "      <td>43.436481</td>\n",
       "      <td>43.436481</td>\n",
       "    </tr>\n",
       "  </tbody>\n",
       "</table>\n",
       "</div>"
      ],
      "text/plain": [
       "   Customer_ID  recency  frequency  monetary  R_score  F_score  M_score  \\\n",
       "0          1.0      788          1    1950.0    666.0  50084.0  36807.5   \n",
       "\n",
       "     R_norm     F_norm     M_norm  \n",
       "0  0.585891  43.436481  43.436481  "
      ]
     },
     "execution_count": 16,
     "metadata": {},
     "output_type": "execute_result"
    }
   ],
   "source": [
    "RFM_table = RFM_table.reset_index(level=0)\n",
    "RFM_table.head(1)"
   ]
  },
  {
   "cell_type": "code",
   "execution_count": 17,
   "id": "a4cf0c4a",
   "metadata": {},
   "outputs": [
    {
     "data": {
      "text/html": [
       "<div>\n",
       "<style scoped>\n",
       "    .dataframe tbody tr th:only-of-type {\n",
       "        vertical-align: middle;\n",
       "    }\n",
       "\n",
       "    .dataframe tbody tr th {\n",
       "        vertical-align: top;\n",
       "    }\n",
       "\n",
       "    .dataframe thead th {\n",
       "        text-align: right;\n",
       "    }\n",
       "</style>\n",
       "<table border=\"1\" class=\"dataframe\">\n",
       "  <thead>\n",
       "    <tr style=\"text-align: right;\">\n",
       "      <th></th>\n",
       "      <th>Customer_ID</th>\n",
       "      <th>RFM_Score</th>\n",
       "    </tr>\n",
       "  </thead>\n",
       "  <tbody>\n",
       "    <tr>\n",
       "      <th>0</th>\n",
       "      <td>1.0</td>\n",
       "      <td>1.85</td>\n",
       "    </tr>\n",
       "    <tr>\n",
       "      <th>1</th>\n",
       "      <td>2.0</td>\n",
       "      <td>1.94</td>\n",
       "    </tr>\n",
       "    <tr>\n",
       "      <th>2</th>\n",
       "      <td>3.0</td>\n",
       "      <td>2.09</td>\n",
       "    </tr>\n",
       "    <tr>\n",
       "      <th>3</th>\n",
       "      <td>4.0</td>\n",
       "      <td>4.99</td>\n",
       "    </tr>\n",
       "    <tr>\n",
       "      <th>4</th>\n",
       "      <td>5.0</td>\n",
       "      <td>1.85</td>\n",
       "    </tr>\n",
       "    <tr>\n",
       "      <th>5</th>\n",
       "      <td>6.0</td>\n",
       "      <td>1.85</td>\n",
       "    </tr>\n",
       "    <tr>\n",
       "      <th>6</th>\n",
       "      <td>7.0</td>\n",
       "      <td>2.06</td>\n",
       "    </tr>\n",
       "  </tbody>\n",
       "</table>\n",
       "</div>"
      ],
      "text/plain": [
       "   Customer_ID  RFM_Score\n",
       "0          1.0       1.85\n",
       "1          2.0       1.94\n",
       "2          3.0       2.09\n",
       "3          4.0       4.99\n",
       "4          5.0       1.85\n",
       "5          6.0       1.85\n",
       "6          7.0       2.06"
      ]
     },
     "execution_count": 17,
     "metadata": {},
     "output_type": "execute_result"
    }
   ],
   "source": [
    "RFM_table['RFM_Score'] = 0.15*RFM_table['R_norm']+0.28 * \\\n",
    "    RFM_table['F_norm']+0.57*RFM_table['M_norm']\n",
    "RFM_table['RFM_Score'] *= 0.05\n",
    "RFM_table = RFM_table.round(2)\n",
    "RFM_table[['Customer_ID', 'RFM_Score']].head(7)"
   ]
  },
  {
   "cell_type": "raw",
   "id": "05a20102",
   "metadata": {},
   "source": [
    "rfm score >4.5 : Top Customer\n",
    "4.5 > rfm score > 4 : High Value Customer\n",
    "4>rfm score >3 : Medium value customer\n",
    "3>rfm score>1.6 : Low-value customer\n",
    "rfm score<1.6 :Lost Customer"
   ]
  },
  {
   "cell_type": "code",
   "execution_count": 19,
   "id": "fdb34f37",
   "metadata": {},
   "outputs": [
    {
     "data": {
      "text/html": [
       "<div>\n",
       "<style scoped>\n",
       "    .dataframe tbody tr th:only-of-type {\n",
       "        vertical-align: middle;\n",
       "    }\n",
       "\n",
       "    .dataframe tbody tr th {\n",
       "        vertical-align: top;\n",
       "    }\n",
       "\n",
       "    .dataframe thead th {\n",
       "        text-align: right;\n",
       "    }\n",
       "</style>\n",
       "<table border=\"1\" class=\"dataframe\">\n",
       "  <thead>\n",
       "    <tr style=\"text-align: right;\">\n",
       "      <th></th>\n",
       "      <th>Customer_ID</th>\n",
       "      <th>RFM_Score</th>\n",
       "      <th>Customer_segment</th>\n",
       "    </tr>\n",
       "  </thead>\n",
       "  <tbody>\n",
       "    <tr>\n",
       "      <th>0</th>\n",
       "      <td>1.0</td>\n",
       "      <td>1.85</td>\n",
       "      <td>Low Value Customers</td>\n",
       "    </tr>\n",
       "    <tr>\n",
       "      <th>1</th>\n",
       "      <td>2.0</td>\n",
       "      <td>1.94</td>\n",
       "      <td>Low Value Customers</td>\n",
       "    </tr>\n",
       "    <tr>\n",
       "      <th>2</th>\n",
       "      <td>3.0</td>\n",
       "      <td>2.09</td>\n",
       "      <td>Low Value Customers</td>\n",
       "    </tr>\n",
       "    <tr>\n",
       "      <th>3</th>\n",
       "      <td>4.0</td>\n",
       "      <td>4.99</td>\n",
       "      <td>Top Customers</td>\n",
       "    </tr>\n",
       "    <tr>\n",
       "      <th>4</th>\n",
       "      <td>5.0</td>\n",
       "      <td>1.85</td>\n",
       "      <td>Low Value Customers</td>\n",
       "    </tr>\n",
       "    <tr>\n",
       "      <th>5</th>\n",
       "      <td>6.0</td>\n",
       "      <td>1.85</td>\n",
       "      <td>Low Value Customers</td>\n",
       "    </tr>\n",
       "    <tr>\n",
       "      <th>6</th>\n",
       "      <td>7.0</td>\n",
       "      <td>2.06</td>\n",
       "      <td>Low Value Customers</td>\n",
       "    </tr>\n",
       "    <tr>\n",
       "      <th>7</th>\n",
       "      <td>8.0</td>\n",
       "      <td>1.85</td>\n",
       "      <td>Low Value Customers</td>\n",
       "    </tr>\n",
       "    <tr>\n",
       "      <th>8</th>\n",
       "      <td>9.0</td>\n",
       "      <td>1.85</td>\n",
       "      <td>Low Value Customers</td>\n",
       "    </tr>\n",
       "    <tr>\n",
       "      <th>9</th>\n",
       "      <td>10.0</td>\n",
       "      <td>1.85</td>\n",
       "      <td>Low Value Customers</td>\n",
       "    </tr>\n",
       "    <tr>\n",
       "      <th>10</th>\n",
       "      <td>11.0</td>\n",
       "      <td>4.34</td>\n",
       "      <td>High value Customer</td>\n",
       "    </tr>\n",
       "    <tr>\n",
       "      <th>11</th>\n",
       "      <td>12.0</td>\n",
       "      <td>1.94</td>\n",
       "      <td>Low Value Customers</td>\n",
       "    </tr>\n",
       "    <tr>\n",
       "      <th>12</th>\n",
       "      <td>13.0</td>\n",
       "      <td>4.39</td>\n",
       "      <td>High value Customer</td>\n",
       "    </tr>\n",
       "    <tr>\n",
       "      <th>13</th>\n",
       "      <td>14.0</td>\n",
       "      <td>2.09</td>\n",
       "      <td>Low Value Customers</td>\n",
       "    </tr>\n",
       "    <tr>\n",
       "      <th>14</th>\n",
       "      <td>15.0</td>\n",
       "      <td>4.69</td>\n",
       "      <td>Top Customers</td>\n",
       "    </tr>\n",
       "    <tr>\n",
       "      <th>15</th>\n",
       "      <td>16.0</td>\n",
       "      <td>4.60</td>\n",
       "      <td>Top Customers</td>\n",
       "    </tr>\n",
       "    <tr>\n",
       "      <th>16</th>\n",
       "      <td>17.0</td>\n",
       "      <td>1.85</td>\n",
       "      <td>Low Value Customers</td>\n",
       "    </tr>\n",
       "    <tr>\n",
       "      <th>17</th>\n",
       "      <td>18.0</td>\n",
       "      <td>1.85</td>\n",
       "      <td>Low Value Customers</td>\n",
       "    </tr>\n",
       "    <tr>\n",
       "      <th>18</th>\n",
       "      <td>19.0</td>\n",
       "      <td>1.94</td>\n",
       "      <td>Low Value Customers</td>\n",
       "    </tr>\n",
       "    <tr>\n",
       "      <th>19</th>\n",
       "      <td>20.0</td>\n",
       "      <td>5.00</td>\n",
       "      <td>Top Customers</td>\n",
       "    </tr>\n",
       "  </tbody>\n",
       "</table>\n",
       "</div>"
      ],
      "text/plain": [
       "    Customer_ID  RFM_Score     Customer_segment\n",
       "0           1.0       1.85  Low Value Customers\n",
       "1           2.0       1.94  Low Value Customers\n",
       "2           3.0       2.09  Low Value Customers\n",
       "3           4.0       4.99        Top Customers\n",
       "4           5.0       1.85  Low Value Customers\n",
       "5           6.0       1.85  Low Value Customers\n",
       "6           7.0       2.06  Low Value Customers\n",
       "7           8.0       1.85  Low Value Customers\n",
       "8           9.0       1.85  Low Value Customers\n",
       "9          10.0       1.85  Low Value Customers\n",
       "10         11.0       4.34  High value Customer\n",
       "11         12.0       1.94  Low Value Customers\n",
       "12         13.0       4.39  High value Customer\n",
       "13         14.0       2.09  Low Value Customers\n",
       "14         15.0       4.69        Top Customers\n",
       "15         16.0       4.60        Top Customers\n",
       "16         17.0       1.85  Low Value Customers\n",
       "17         18.0       1.85  Low Value Customers\n",
       "18         19.0       1.94  Low Value Customers\n",
       "19         20.0       5.00        Top Customers"
      ]
     },
     "execution_count": 19,
     "metadata": {},
     "output_type": "execute_result"
    }
   ],
   "source": [
    "RFM_table[\"Customer_segment\"] = np.where(RFM_table['RFM_Score'] > 4.5, \"Top Customers\",\n",
    "                                      (np.where(RFM_table['RFM_Score'] > 4,\"High value Customer\",\n",
    "                                    (np.where(RFM_table['RFM_Score'] > 3, \"Medium Value Customer\",\n",
    "                                    np.where(RFM_table['RFM_Score'] > 1.6,'Low Value Customers', \n",
    "                                             'Lost Customers'))))))\n",
    "RFM_table[['Customer_ID', 'RFM_Score', 'Customer_segment']].head(20)\n"
   ]
  },
  {
   "cell_type": "code",
   "execution_count": 20,
   "id": "ae0373ce",
   "metadata": {},
   "outputs": [
    {
     "data": {
      "image/png": "[encoded data removed]",
      "text/plain": [
       "<Figure size 1440x576 with 1 Axes>"
      ]
     },
     "metadata": {},
     "output_type": "display_data"
    }
   ],
   "source": [
    "plt.figure(figsize=(20,8))\n",
    "plt.pie(RFM_table.Customer_segment.value_counts(),\n",
    "        labels=RFM_table.Customer_segment.value_counts().index,\n",
    "        autopct='%.0f%%')\n",
    "plt.show()"
   ]
  },
  {
   "cell_type": "code",
   "execution_count": 21,
   "id": "9e00cc6f",
   "metadata": {},
   "outputs": [
    {
     "data": {
      "text/plain": [
       "<AxesSubplot:xlabel='Customer_segment', ylabel='count'>"
      ]
     },
     "execution_count": 21,
     "metadata": {},
     "output_type": "execute_result"
    },
    {
     "data": {
      "image/png": "[encoded data removed]",
      "text/plain": [
       "<Figure size 1440x576 with 1 Axes>"
      ]
     },
     "metadata": {
      "needs_background": "light"
     },
     "output_type": "display_data"
    }
   ],
   "source": [
    "plt.figure(figsize=(20,8))\n",
    "sns.set_context(\"poster\", font_scale=0.7)\n",
    "sns.set_palette('twilight')\n",
    "sns.countplot(RFM_table['Customer_segment'])"
   ]
  },
  {
   "cell_type": "code",
   "execution_count": 22,
   "id": "05f0211b",
   "metadata": {},
   "outputs": [
    {
     "data": {
      "text/html": [
       "<div>\n",
       "<style scoped>\n",
       "    .dataframe tbody tr th:only-of-type {\n",
       "        vertical-align: middle;\n",
       "    }\n",
       "\n",
       "    .dataframe tbody tr th {\n",
       "        vertical-align: top;\n",
       "    }\n",
       "\n",
       "    .dataframe thead tr th {\n",
       "        text-align: left;\n",
       "    }\n",
       "\n",
       "    .dataframe thead tr:last-of-type th {\n",
       "        text-align: right;\n",
       "    }\n",
       "</style>\n",
       "<table border=\"1\" class=\"dataframe\">\n",
       "  <thead>\n",
       "    <tr>\n",
       "      <th></th>\n",
       "      <th colspan=\"3\" halign=\"left\">recency</th>\n",
       "      <th colspan=\"3\" halign=\"left\">frequency</th>\n",
       "      <th colspan=\"4\" halign=\"left\">monetary</th>\n",
       "    </tr>\n",
       "    <tr>\n",
       "      <th></th>\n",
       "      <th>mean</th>\n",
       "      <th>min</th>\n",
       "      <th>max</th>\n",
       "      <th>mean</th>\n",
       "      <th>min</th>\n",
       "      <th>max</th>\n",
       "      <th>mean</th>\n",
       "      <th>min</th>\n",
       "      <th>max</th>\n",
       "      <th>count</th>\n",
       "    </tr>\n",
       "    <tr>\n",
       "      <th>Customer_segment</th>\n",
       "      <th></th>\n",
       "      <th></th>\n",
       "      <th></th>\n",
       "      <th></th>\n",
       "      <th></th>\n",
       "      <th></th>\n",
       "      <th></th>\n",
       "      <th></th>\n",
       "      <th></th>\n",
       "      <th></th>\n",
       "    </tr>\n",
       "  </thead>\n",
       "  <tbody>\n",
       "    <tr>\n",
       "      <th>High value Customer</th>\n",
       "      <td>378.650206</td>\n",
       "      <td>208</td>\n",
       "      <td>788</td>\n",
       "      <td>2.138357</td>\n",
       "      <td>2</td>\n",
       "      <td>10</td>\n",
       "      <td>93202.070487</td>\n",
       "      <td>0.0</td>\n",
       "      <td>12502191.00</td>\n",
       "      <td>7047</td>\n",
       "    </tr>\n",
       "    <tr>\n",
       "      <th>Low Value Customers</th>\n",
       "      <td>385.863368</td>\n",
       "      <td>27</td>\n",
       "      <td>788</td>\n",
       "      <td>1.000000</td>\n",
       "      <td>1</td>\n",
       "      <td>1</td>\n",
       "      <td>23763.066616</td>\n",
       "      <td>0.0</td>\n",
       "      <td>35776000.00</td>\n",
       "      <td>100167</td>\n",
       "    </tr>\n",
       "    <tr>\n",
       "      <th>Medium Value Customer</th>\n",
       "      <td>705.002890</td>\n",
       "      <td>665</td>\n",
       "      <td>788</td>\n",
       "      <td>2.000000</td>\n",
       "      <td>2</td>\n",
       "      <td>2</td>\n",
       "      <td>54262.199335</td>\n",
       "      <td>0.0</td>\n",
       "      <td>3375748.00</td>\n",
       "      <td>692</td>\n",
       "    </tr>\n",
       "    <tr>\n",
       "      <th>Top Customers</th>\n",
       "      <td>137.428765</td>\n",
       "      <td>27</td>\n",
       "      <td>453</td>\n",
       "      <td>2.512571</td>\n",
       "      <td>2</td>\n",
       "      <td>21</td>\n",
       "      <td>258349.411307</td>\n",
       "      <td>0.0</td>\n",
       "      <td>72150379.65</td>\n",
       "      <td>7398</td>\n",
       "    </tr>\n",
       "  </tbody>\n",
       "</table>\n",
       "</div>"
      ],
      "text/plain": [
       "                          recency           frequency               monetary  \\\n",
       "                             mean  min  max      mean min max           mean   \n",
       "Customer_segment                                                               \n",
       "High value Customer    378.650206  208  788  2.138357   2  10   93202.070487   \n",
       "Low Value Customers    385.863368   27  788  1.000000   1   1   23763.066616   \n",
       "Medium Value Customer  705.002890  665  788  2.000000   2   2   54262.199335   \n",
       "Top Customers          137.428765   27  453  2.512571   2  21  258349.411307   \n",
       "\n",
       "                                                 \n",
       "                       min          max   count  \n",
       "Customer_segment                                 \n",
       "High value Customer    0.0  12502191.00    7047  \n",
       "Low Value Customers    0.0  35776000.00  100167  \n",
       "Medium Value Customer  0.0   3375748.00     692  \n",
       "Top Customers          0.0  72150379.65    7398  "
      ]
     },
     "execution_count": 22,
     "metadata": {},
     "output_type": "execute_result"
    }
   ],
   "source": [
    "RFM_table.groupby('Customer_segment').agg({\n",
    "    'recency' : ['mean', 'min','max'],\n",
    "    'frequency' : ['mean', 'min','max'],\n",
    "    'monetary' : ['mean','min','max','count']\n",
    "})"
   ]
  },
  {
   "cell_type": "raw",
   "id": "26195766",
   "metadata": {},
   "source": [
    "la distribution des Customer segment est semblable par rapport à l'axe 'monetory' et l'axe frequency, mais elle différente par rapport à l'axe 'recency' : les segment de 'hight value custumer' et 'medium value custumer' ont une recensy score faible."
   ]
  },
  {
   "cell_type": "code",
   "execution_count": 23,
   "id": "1deb044a",
   "metadata": {},
   "outputs": [
    {
     "data": {
      "image/png": "[encoded data removed]",
      "text/plain": [
       "<Figure size 1080x360 with 1 Axes>"
      ]
     },
     "metadata": {
      "needs_background": "light"
     },
     "output_type": "display_data"
    }
   ],
   "source": [
    "plt.figure(figsize=(15,5))\n",
    "sns.barplot(x=RFM_table.Customer_segment, y=RFM_table.M_score);"
   ]
  },
  {
   "cell_type": "code",
   "execution_count": 24,
   "id": "02219892",
   "metadata": {},
   "outputs": [
    {
     "data": {
      "image/png": "[encoded data removed]",
      "text/plain": [
       "<Figure size 1080x360 with 1 Axes>"
      ]
     },
     "metadata": {
      "needs_background": "light"
     },
     "output_type": "display_data"
    }
   ],
   "source": [
    "plt.figure(figsize=(15,5))\n",
    "sns.barplot(x=RFM_table.Customer_segment, y=RFM_table.F_score);"
   ]
  },
  {
   "cell_type": "code",
   "execution_count": 25,
   "id": "859f0c6c",
   "metadata": {},
   "outputs": [
    {
     "data": {
      "image/png": "[encoded data removed]",
      "text/plain": [
       "<Figure size 1080x360 with 1 Axes>"
      ]
     },
     "metadata": {
      "needs_background": "light"
     },
     "output_type": "display_data"
    }
   ],
   "source": [
    "plt.figure(figsize=(15,5))\n",
    "sns.barplot(x=RFM_table.Customer_segment, y=RFM_table.R_score);"
   ]
  },
  {
   "cell_type": "markdown",
   "id": "47508815",
   "metadata": {},
   "source": [
    "# Etude Kmean"
   ]
  },
  {
   "cell_type": "code",
   "execution_count": 26,
   "id": "15f7a58f",
   "metadata": {},
   "outputs": [],
   "source": [
    "from sklearn.preprocessing import StandardScaler\n",
    "from sklearn import preprocessing\n",
    "from sklearn.cluster import KMeans"
   ]
  },
  {
   "cell_type": "code",
   "execution_count": 27,
   "id": "f65eea2d",
   "metadata": {},
   "outputs": [
    {
     "data": {
      "text/html": [
       "<div>\n",
       "<style scoped>\n",
       "    .dataframe tbody tr th:only-of-type {\n",
       "        vertical-align: middle;\n",
       "    }\n",
       "\n",
       "    .dataframe tbody tr th {\n",
       "        vertical-align: top;\n",
       "    }\n",
       "\n",
       "    .dataframe thead th {\n",
       "        text-align: right;\n",
       "    }\n",
       "</style>\n",
       "<table border=\"1\" class=\"dataframe\">\n",
       "  <thead>\n",
       "    <tr style=\"text-align: right;\">\n",
       "      <th></th>\n",
       "      <th>recency</th>\n",
       "      <th>frequency</th>\n",
       "      <th>monetary</th>\n",
       "    </tr>\n",
       "  </thead>\n",
       "  <tbody>\n",
       "    <tr>\n",
       "      <th>0</th>\n",
       "      <td>788</td>\n",
       "      <td>1</td>\n",
       "      <td>1950.00</td>\n",
       "    </tr>\n",
       "    <tr>\n",
       "      <th>1</th>\n",
       "      <td>665</td>\n",
       "      <td>1</td>\n",
       "      <td>510.00</td>\n",
       "    </tr>\n",
       "    <tr>\n",
       "      <th>2</th>\n",
       "      <td>484</td>\n",
       "      <td>1</td>\n",
       "      <td>7430.00</td>\n",
       "    </tr>\n",
       "    <tr>\n",
       "      <th>3</th>\n",
       "      <td>27</td>\n",
       "      <td>5</td>\n",
       "      <td>2567596.45</td>\n",
       "    </tr>\n",
       "    <tr>\n",
       "      <th>4</th>\n",
       "      <td>788</td>\n",
       "      <td>1</td>\n",
       "      <td>1110.00</td>\n",
       "    </tr>\n",
       "  </tbody>\n",
       "</table>\n",
       "</div>"
      ],
      "text/plain": [
       "   recency  frequency    monetary\n",
       "0      788          1     1950.00\n",
       "1      665          1      510.00\n",
       "2      484          1     7430.00\n",
       "3       27          5  2567596.45\n",
       "4      788          1     1110.00"
      ]
     },
     "execution_count": 27,
     "metadata": {},
     "output_type": "execute_result"
    }
   ],
   "source": [
    "temp1=[ 'recency', 'frequency', 'monetary']\n",
    "RFM_kmean=RFM_table[temp1]\n",
    "RFM_kmean.head()"
   ]
  },
  {
   "cell_type": "code",
   "execution_count": 28,
   "id": "da498647",
   "metadata": {},
   "outputs": [
    {
     "data": {
      "text/plain": [
       "array([[ 2.00663456, -0.32447567, -0.1104145 ],\n",
       "       [ 1.41418398, -0.32447567, -0.11426512],\n",
       "       [ 0.54236646, -0.32447567, -0.09576075],\n",
       "       ...,\n",
       "       [-1.65885237, -0.32447567, -0.11416083],\n",
       "       [-1.65885237, -0.32447567, -0.1124227 ],\n",
       "       [-1.65885237, -0.32447567, -0.01963347]])"
      ]
     },
     "execution_count": 28,
     "metadata": {},
     "output_type": "execute_result"
    }
   ],
   "source": [
    "scaler = StandardScaler()\n",
    "x_scaled=scaler.fit(RFM_kmean)\n",
    "x_scaled = scaler.fit_transform(RFM_kmean)\n",
    "x_scaled\n"
   ]
  },
  {
   "cell_type": "code",
   "execution_count": 34,
   "id": "304eea14",
   "metadata": {},
   "outputs": [
    {
     "data": {
      "text/html": [
       "<div>\n",
       "<style scoped>\n",
       "    .dataframe tbody tr th:only-of-type {\n",
       "        vertical-align: middle;\n",
       "    }\n",
       "\n",
       "    .dataframe tbody tr th {\n",
       "        vertical-align: top;\n",
       "    }\n",
       "\n",
       "    .dataframe thead th {\n",
       "        text-align: right;\n",
       "    }\n",
       "</style>\n",
       "<table border=\"1\" class=\"dataframe\">\n",
       "  <thead>\n",
       "    <tr style=\"text-align: right;\">\n",
       "      <th></th>\n",
       "      <th>recency</th>\n",
       "      <th>frequency</th>\n",
       "      <th>monetary</th>\n",
       "    </tr>\n",
       "  </thead>\n",
       "  <tbody>\n",
       "    <tr>\n",
       "      <th>0</th>\n",
       "      <td>2.006635</td>\n",
       "      <td>-0.324476</td>\n",
       "      <td>-0.110414</td>\n",
       "    </tr>\n",
       "    <tr>\n",
       "      <th>1</th>\n",
       "      <td>1.414184</td>\n",
       "      <td>-0.324476</td>\n",
       "      <td>-0.114265</td>\n",
       "    </tr>\n",
       "    <tr>\n",
       "      <th>2</th>\n",
       "      <td>0.542366</td>\n",
       "      <td>-0.324476</td>\n",
       "      <td>-0.095761</td>\n",
       "    </tr>\n",
       "    <tr>\n",
       "      <th>3</th>\n",
       "      <td>-1.658852</td>\n",
       "      <td>7.194283</td>\n",
       "      <td>6.750230</td>\n",
       "    </tr>\n",
       "    <tr>\n",
       "      <th>4</th>\n",
       "      <td>2.006635</td>\n",
       "      <td>-0.324476</td>\n",
       "      <td>-0.112661</td>\n",
       "    </tr>\n",
       "    <tr>\n",
       "      <th>5</th>\n",
       "      <td>2.006635</td>\n",
       "      <td>-0.324476</td>\n",
       "      <td>-0.114960</td>\n",
       "    </tr>\n",
       "    <tr>\n",
       "      <th>6</th>\n",
       "      <td>0.686867</td>\n",
       "      <td>-0.324476</td>\n",
       "      <td>-0.115348</td>\n",
       "    </tr>\n",
       "    <tr>\n",
       "      <th>7</th>\n",
       "      <td>2.006635</td>\n",
       "      <td>-0.324476</td>\n",
       "      <td>0.400456</td>\n",
       "    </tr>\n",
       "    <tr>\n",
       "      <th>8</th>\n",
       "      <td>2.006635</td>\n",
       "      <td>-0.324476</td>\n",
       "      <td>-0.100922</td>\n",
       "    </tr>\n",
       "    <tr>\n",
       "      <th>9</th>\n",
       "      <td>2.006635</td>\n",
       "      <td>-0.324476</td>\n",
       "      <td>-0.113671</td>\n",
       "    </tr>\n",
       "    <tr>\n",
       "      <th>10</th>\n",
       "      <td>0.971050</td>\n",
       "      <td>3.434904</td>\n",
       "      <td>-0.103342</td>\n",
       "    </tr>\n",
       "    <tr>\n",
       "      <th>11</th>\n",
       "      <td>1.414184</td>\n",
       "      <td>-0.324476</td>\n",
       "      <td>-0.105513</td>\n",
       "    </tr>\n",
       "    <tr>\n",
       "      <th>12</th>\n",
       "      <td>1.120367</td>\n",
       "      <td>7.194283</td>\n",
       "      <td>1.534162</td>\n",
       "    </tr>\n",
       "    <tr>\n",
       "      <th>13</th>\n",
       "      <td>0.542366</td>\n",
       "      <td>-0.324476</td>\n",
       "      <td>-0.081076</td>\n",
       "    </tr>\n",
       "    <tr>\n",
       "      <th>14</th>\n",
       "      <td>-0.637718</td>\n",
       "      <td>3.434904</td>\n",
       "      <td>0.289817</td>\n",
       "    </tr>\n",
       "    <tr>\n",
       "      <th>15</th>\n",
       "      <td>-0.194584</td>\n",
       "      <td>7.194283</td>\n",
       "      <td>6.081522</td>\n",
       "    </tr>\n",
       "    <tr>\n",
       "      <th>16</th>\n",
       "      <td>2.006635</td>\n",
       "      <td>-0.324476</td>\n",
       "      <td>-0.095167</td>\n",
       "    </tr>\n",
       "    <tr>\n",
       "      <th>17</th>\n",
       "      <td>2.006635</td>\n",
       "      <td>-0.324476</td>\n",
       "      <td>-0.107607</td>\n",
       "    </tr>\n",
       "    <tr>\n",
       "      <th>18</th>\n",
       "      <td>1.414184</td>\n",
       "      <td>-0.324476</td>\n",
       "      <td>-0.100317</td>\n",
       "    </tr>\n",
       "    <tr>\n",
       "      <th>19</th>\n",
       "      <td>-1.658852</td>\n",
       "      <td>12.833352</td>\n",
       "      <td>11.532833</td>\n",
       "    </tr>\n",
       "    <tr>\n",
       "      <th>20</th>\n",
       "      <td>-0.637718</td>\n",
       "      <td>5.314593</td>\n",
       "      <td>0.596906</td>\n",
       "    </tr>\n",
       "    <tr>\n",
       "      <th>21</th>\n",
       "      <td>2.006635</td>\n",
       "      <td>-0.324476</td>\n",
       "      <td>-0.103981</td>\n",
       "    </tr>\n",
       "    <tr>\n",
       "      <th>22</th>\n",
       "      <td>-1.509536</td>\n",
       "      <td>1.555214</td>\n",
       "      <td>0.160776</td>\n",
       "    </tr>\n",
       "    <tr>\n",
       "      <th>23</th>\n",
       "      <td>2.006635</td>\n",
       "      <td>-0.324476</td>\n",
       "      <td>-0.113225</td>\n",
       "    </tr>\n",
       "    <tr>\n",
       "      <th>24</th>\n",
       "      <td>2.006635</td>\n",
       "      <td>-0.324476</td>\n",
       "      <td>-0.056800</td>\n",
       "    </tr>\n",
       "    <tr>\n",
       "      <th>25</th>\n",
       "      <td>2.006635</td>\n",
       "      <td>-0.324476</td>\n",
       "      <td>-0.103596</td>\n",
       "    </tr>\n",
       "    <tr>\n",
       "      <th>26</th>\n",
       "      <td>0.971050</td>\n",
       "      <td>-0.324476</td>\n",
       "      <td>-0.081070</td>\n",
       "    </tr>\n",
       "    <tr>\n",
       "      <th>27</th>\n",
       "      <td>-1.071218</td>\n",
       "      <td>3.434904</td>\n",
       "      <td>1.509244</td>\n",
       "    </tr>\n",
       "    <tr>\n",
       "      <th>28</th>\n",
       "      <td>2.006635</td>\n",
       "      <td>-0.324476</td>\n",
       "      <td>-0.114693</td>\n",
       "    </tr>\n",
       "    <tr>\n",
       "      <th>29</th>\n",
       "      <td>1.708001</td>\n",
       "      <td>1.555214</td>\n",
       "      <td>-0.113262</td>\n",
       "    </tr>\n",
       "  </tbody>\n",
       "</table>\n",
       "</div>"
      ],
      "text/plain": [
       "     recency  frequency   monetary\n",
       "0   2.006635  -0.324476  -0.110414\n",
       "1   1.414184  -0.324476  -0.114265\n",
       "2   0.542366  -0.324476  -0.095761\n",
       "3  -1.658852   7.194283   6.750230\n",
       "4   2.006635  -0.324476  -0.112661\n",
       "5   2.006635  -0.324476  -0.114960\n",
       "6   0.686867  -0.324476  -0.115348\n",
       "7   2.006635  -0.324476   0.400456\n",
       "8   2.006635  -0.324476  -0.100922\n",
       "9   2.006635  -0.324476  -0.113671\n",
       "10  0.971050   3.434904  -0.103342\n",
       "11  1.414184  -0.324476  -0.105513\n",
       "12  1.120367   7.194283   1.534162\n",
       "13  0.542366  -0.324476  -0.081076\n",
       "14 -0.637718   3.434904   0.289817\n",
       "15 -0.194584   7.194283   6.081522\n",
       "16  2.006635  -0.324476  -0.095167\n",
       "17  2.006635  -0.324476  -0.107607\n",
       "18  1.414184  -0.324476  -0.100317\n",
       "19 -1.658852  12.833352  11.532833\n",
       "20 -0.637718   5.314593   0.596906\n",
       "21  2.006635  -0.324476  -0.103981\n",
       "22 -1.509536   1.555214   0.160776\n",
       "23  2.006635  -0.324476  -0.113225\n",
       "24  2.006635  -0.324476  -0.056800\n",
       "25  2.006635  -0.324476  -0.103596\n",
       "26  0.971050  -0.324476  -0.081070\n",
       "27 -1.071218   3.434904   1.509244\n",
       "28  2.006635  -0.324476  -0.114693\n",
       "29  1.708001   1.555214  -0.113262"
      ]
     },
     "execution_count": 34,
     "metadata": {},
     "output_type": "execute_result"
    }
   ],
   "source": [
    "x_scaled=pd.DataFrame(x_scaled, columns = RFM_kmean.columns)\n",
    "x_scaled.head(30)"
   ]
  },
  {
   "cell_type": "code",
   "execution_count": 32,
   "id": "82452e3c",
   "metadata": {},
   "outputs": [
    {
     "data": {
      "image/png": "[encoded data removed]",
      "text/plain": [
       "<Figure size 1440x1440 with 1 Axes>"
      ]
     },
     "metadata": {
      "needs_background": "light"
     },
     "output_type": "display_data"
    }
   ],
   "source": [
    "\n",
    "model=KMeans(n_clusters=(2)).fit(x_scaled)\n",
    "\n",
    "fig=plt.figure(figsize=(20,20))\n",
    "ax=fig.add_subplot(111,projection='3d')\n",
    "ax.scatter(x_scaled['recency'],x_scaled['frequency'], x_scaled['monetary'],\n",
    "          cmap='brg',c=model.predict(x_scaled))\n",
    "ax.scatter(model.cluster_centers_[:,0],model.cluster_centers_[:,0],c='black');"
   ]
  },
  {
   "cell_type": "raw",
   "id": "246f2598",
   "metadata": {},
   "source": [
    "x:recensy, y:frequency, z:monetary\n",
    "on remarque qu'il existe quelques valaurs abérantes"
   ]
  },
  {
   "cell_type": "markdown",
   "id": "80e71914",
   "metadata": {},
   "source": [
    "# Etude détaillée des articles achetés par client"
   ]
  },
  {
   "cell_type": "code",
   "execution_count": null,
   "id": "2abd584b",
   "metadata": {},
   "outputs": [],
   "source": []
  },
  {
   "cell_type": "code",
   "execution_count": 48,
   "id": "c9814674",
   "metadata": {},
   "outputs": [
    {
     "data": {
      "text/html": [
       "<div>\n",
       "<style scoped>\n",
       "    .dataframe tbody tr th:only-of-type {\n",
       "        vertical-align: middle;\n",
       "    }\n",
       "\n",
       "    .dataframe tbody tr th {\n",
       "        vertical-align: top;\n",
       "    }\n",
       "\n",
       "    .dataframe thead th {\n",
       "        text-align: right;\n",
       "    }\n",
       "</style>\n",
       "<table border=\"1\" class=\"dataframe\">\n",
       "  <thead>\n",
       "    <tr style=\"text-align: right;\">\n",
       "      <th></th>\n",
       "      <th>Customer_ID</th>\n",
       "    </tr>\n",
       "  </thead>\n",
       "  <tbody>\n",
       "    <tr>\n",
       "      <th>0</th>\n",
       "      <td>3</td>\n",
       "    </tr>\n",
       "    <tr>\n",
       "      <th>1</th>\n",
       "      <td>14</td>\n",
       "    </tr>\n",
       "    <tr>\n",
       "      <th>2</th>\n",
       "      <td>15</td>\n",
       "    </tr>\n",
       "    <tr>\n",
       "      <th>3</th>\n",
       "      <td>19</td>\n",
       "    </tr>\n",
       "    <tr>\n",
       "      <th>4</th>\n",
       "      <td>20</td>\n",
       "    </tr>\n",
       "  </tbody>\n",
       "</table>\n",
       "</div>"
      ],
      "text/plain": [
       "   Customer_ID\n",
       "0            3\n",
       "1           14\n",
       "2           15\n",
       "3           19\n",
       "4           20"
      ]
     },
     "execution_count": 48,
     "metadata": {},
     "output_type": "execute_result"
    }
   ],
   "source": [
    "best_df = pd.DataFrame()\n",
    "best_df[\"Customer_ID\"] = RFM_table[RFM_table[\"Customer_segment\"] == \"Top Customers\"].index\n",
    "best_df.head(5)\n",
    "#best_df.to_excel(\"best_customers.xlsx\", sheet_name='Best Customers Index')"
   ]
  },
  {
   "cell_type": "code",
   "execution_count": 49,
   "id": "6ba23e7f",
   "metadata": {},
   "outputs": [
    {
     "data": {
      "text/html": [
       "<div>\n",
       "<style scoped>\n",
       "    .dataframe tbody tr th:only-of-type {\n",
       "        vertical-align: middle;\n",
       "    }\n",
       "\n",
       "    .dataframe tbody tr th {\n",
       "        vertical-align: top;\n",
       "    }\n",
       "\n",
       "    .dataframe thead th {\n",
       "        text-align: right;\n",
       "    }\n",
       "</style>\n",
       "<table border=\"1\" class=\"dataframe\">\n",
       "  <thead>\n",
       "    <tr style=\"text-align: right;\">\n",
       "      <th></th>\n",
       "      <th>Customer_ID</th>\n",
       "    </tr>\n",
       "  </thead>\n",
       "  <tbody>\n",
       "    <tr>\n",
       "      <th>0</th>\n",
       "      <td>10</td>\n",
       "    </tr>\n",
       "    <tr>\n",
       "      <th>1</th>\n",
       "      <td>12</td>\n",
       "    </tr>\n",
       "    <tr>\n",
       "      <th>2</th>\n",
       "      <td>34</td>\n",
       "    </tr>\n",
       "    <tr>\n",
       "      <th>3</th>\n",
       "      <td>35</td>\n",
       "    </tr>\n",
       "    <tr>\n",
       "      <th>4</th>\n",
       "      <td>41</td>\n",
       "    </tr>\n",
       "  </tbody>\n",
       "</table>\n",
       "</div>"
      ],
      "text/plain": [
       "   Customer_ID\n",
       "0           10\n",
       "1           12\n",
       "2           34\n",
       "3           35\n",
       "4           41"
      ]
     },
     "execution_count": 49,
     "metadata": {},
     "output_type": "execute_result"
    }
   ],
   "source": [
    "good_df = pd.DataFrame()\n",
    "good_df[\"Customer_ID\"] = RFM_table[RFM_table[\"Customer_segment\"] == \"High value Customer\"].index\n",
    "good_df.head()\n",
    "#good_df.to_excel(\"good_customers.xlsx\", sheet_name='Good Customers Index')"
   ]
  },
  {
   "cell_type": "code",
   "execution_count": 50,
   "id": "ac647b25",
   "metadata": {},
   "outputs": [
    {
     "data": {
      "text/html": [
       "<div>\n",
       "<style scoped>\n",
       "    .dataframe tbody tr th:only-of-type {\n",
       "        vertical-align: middle;\n",
       "    }\n",
       "\n",
       "    .dataframe tbody tr th {\n",
       "        vertical-align: top;\n",
       "    }\n",
       "\n",
       "    .dataframe thead th {\n",
       "        text-align: right;\n",
       "    }\n",
       "</style>\n",
       "<table border=\"1\" class=\"dataframe\">\n",
       "  <thead>\n",
       "    <tr style=\"text-align: right;\">\n",
       "      <th></th>\n",
       "      <th>Customer_ID</th>\n",
       "    </tr>\n",
       "  </thead>\n",
       "  <tbody>\n",
       "    <tr>\n",
       "      <th>0</th>\n",
       "      <td>29</td>\n",
       "    </tr>\n",
       "    <tr>\n",
       "      <th>1</th>\n",
       "      <td>36</td>\n",
       "    </tr>\n",
       "    <tr>\n",
       "      <th>2</th>\n",
       "      <td>37</td>\n",
       "    </tr>\n",
       "    <tr>\n",
       "      <th>3</th>\n",
       "      <td>38</td>\n",
       "    </tr>\n",
       "    <tr>\n",
       "      <th>4</th>\n",
       "      <td>49</td>\n",
       "    </tr>\n",
       "  </tbody>\n",
       "</table>\n",
       "</div>"
      ],
      "text/plain": [
       "   Customer_ID\n",
       "0           29\n",
       "1           36\n",
       "2           37\n",
       "3           38\n",
       "4           49"
      ]
     },
     "execution_count": 50,
     "metadata": {},
     "output_type": "execute_result"
    }
   ],
   "source": [
    "medium_df = pd.DataFrame()\n",
    "medium_df[\"Customer_ID\"] = RFM_table[RFM_table[\"Customer_segment\"] == \"Medium Value Customer\"].index\n",
    "medium_df.head()\n",
    "#medium_df.to_excel(\"medium_customers.xlsx\", sheet_name='Medium Customers Index')"
   ]
  },
  {
   "cell_type": "code",
   "execution_count": 51,
   "id": "5ba30489",
   "metadata": {},
   "outputs": [
    {
     "data": {
      "text/html": [
       "<div>\n",
       "<style scoped>\n",
       "    .dataframe tbody tr th:only-of-type {\n",
       "        vertical-align: middle;\n",
       "    }\n",
       "\n",
       "    .dataframe tbody tr th {\n",
       "        vertical-align: top;\n",
       "    }\n",
       "\n",
       "    .dataframe thead th {\n",
       "        text-align: right;\n",
       "    }\n",
       "</style>\n",
       "<table border=\"1\" class=\"dataframe\">\n",
       "  <thead>\n",
       "    <tr style=\"text-align: right;\">\n",
       "      <th></th>\n",
       "      <th>Customer_ID</th>\n",
       "    </tr>\n",
       "  </thead>\n",
       "  <tbody>\n",
       "    <tr>\n",
       "      <th>0</th>\n",
       "      <td>0</td>\n",
       "    </tr>\n",
       "    <tr>\n",
       "      <th>1</th>\n",
       "      <td>1</td>\n",
       "    </tr>\n",
       "    <tr>\n",
       "      <th>2</th>\n",
       "      <td>2</td>\n",
       "    </tr>\n",
       "    <tr>\n",
       "      <th>3</th>\n",
       "      <td>4</td>\n",
       "    </tr>\n",
       "    <tr>\n",
       "      <th>4</th>\n",
       "      <td>5</td>\n",
       "    </tr>\n",
       "  </tbody>\n",
       "</table>\n",
       "</div>"
      ],
      "text/plain": [
       "   Customer_ID\n",
       "0            0\n",
       "1            1\n",
       "2            2\n",
       "3            4\n",
       "4            5"
      ]
     },
     "execution_count": 51,
     "metadata": {},
     "output_type": "execute_result"
    }
   ],
   "source": [
    "worst_df = pd.DataFrame()\n",
    "worst_df[\"Customer_ID\"] = RFM_table[RFM_table[\"Customer_segment\"] == \"Low Value Customers\"].index\n",
    "worst_df.head()\n",
    "#worst_df.to_excel(\"worst_customers.xlsx\", sheet_name='Worst Customers Index')"
   ]
  },
  {
   "cell_type": "markdown",
   "id": "0015f9bb",
   "metadata": {},
   "source": [
    "# Best Customers"
   ]
  },
  {
   "cell_type": "code",
   "execution_count": 52,
   "id": "321e519b",
   "metadata": {},
   "outputs": [
    {
     "data": {
      "text/html": [
       "<div>\n",
       "<style scoped>\n",
       "    .dataframe tbody tr th:only-of-type {\n",
       "        vertical-align: middle;\n",
       "    }\n",
       "\n",
       "    .dataframe tbody tr th {\n",
       "        vertical-align: top;\n",
       "    }\n",
       "\n",
       "    .dataframe thead th {\n",
       "        text-align: right;\n",
       "    }\n",
       "</style>\n",
       "<table border=\"1\" class=\"dataframe\">\n",
       "  <thead>\n",
       "    <tr style=\"text-align: right;\">\n",
       "      <th></th>\n",
       "      <th>status</th>\n",
       "      <th>created_at</th>\n",
       "      <th>articles</th>\n",
       "      <th>price</th>\n",
       "      <th>qty_ordered</th>\n",
       "      <th>amount</th>\n",
       "      <th>category_name</th>\n",
       "      <th>payment_method</th>\n",
       "      <th>Working_Date</th>\n",
       "      <th>Customer_Since</th>\n",
       "      <th>date</th>\n",
       "      <th>Customer_ID</th>\n",
       "      <th>Year</th>\n",
       "      <th>Month</th>\n",
       "      <th>Day</th>\n",
       "    </tr>\n",
       "    <tr>\n",
       "      <th>item_id</th>\n",
       "      <th></th>\n",
       "      <th></th>\n",
       "      <th></th>\n",
       "      <th></th>\n",
       "      <th></th>\n",
       "      <th></th>\n",
       "      <th></th>\n",
       "      <th></th>\n",
       "      <th></th>\n",
       "      <th></th>\n",
       "      <th></th>\n",
       "      <th></th>\n",
       "      <th></th>\n",
       "      <th></th>\n",
       "      <th></th>\n",
       "    </tr>\n",
       "  </thead>\n",
       "  <tbody>\n",
       "    <tr>\n",
       "      <th>211131.0</th>\n",
       "      <td>complete</td>\n",
       "      <td>2016-07-01</td>\n",
       "      <td>kreations_YI 06-L</td>\n",
       "      <td>1950.0</td>\n",
       "      <td>1</td>\n",
       "      <td>1950.0</td>\n",
       "      <td>Women's Fashion</td>\n",
       "      <td>cod</td>\n",
       "      <td>2016-07-01</td>\n",
       "      <td>2016-07-01</td>\n",
       "      <td>2016-07-01</td>\n",
       "      <td>1.0</td>\n",
       "      <td>2016</td>\n",
       "      <td>7</td>\n",
       "      <td>1</td>\n",
       "    </tr>\n",
       "  </tbody>\n",
       "</table>\n",
       "</div>"
      ],
      "text/plain": [
       "            status created_at           articles   price  qty_ordered  amount  \\\n",
       "item_id                                                                         \n",
       "211131.0  complete 2016-07-01  kreations_YI 06-L  1950.0            1  1950.0   \n",
       "\n",
       "            category_name payment_method Working_Date Customer_Since  \\\n",
       "item_id                                                                \n",
       "211131.0  Women's Fashion            cod   2016-07-01     2016-07-01   \n",
       "\n",
       "               date  Customer_ID  Year  Month  Day  \n",
       "item_id                                             \n",
       "211131.0 2016-07-01          1.0  2016      7    1  "
      ]
     },
     "execution_count": 52,
     "metadata": {},
     "output_type": "execute_result"
    }
   ],
   "source": [
    "df.head(1)"
   ]
  },
  {
   "cell_type": "code",
   "execution_count": null,
   "id": "a5d292fd",
   "metadata": {},
   "outputs": [],
   "source": [
    "status,category_name,articles"
   ]
  },
  {
   "cell_type": "code",
   "execution_count": 240,
   "id": "0d55b5f4",
   "metadata": {},
   "outputs": [
    {
     "data": {
      "text/plain": [
       "(584314, 6)"
      ]
     },
     "execution_count": 240,
     "metadata": {},
     "output_type": "execute_result"
    }
   ],
   "source": [
    "temp=[ 'Customer_ID','articles', 'category_name', 'status','date','payment_method']\n",
    "df_select=df[temp]\n",
    "\n",
    "df_select.shape"
   ]
  },
  {
   "cell_type": "code",
   "execution_count": 241,
   "id": "d6f4654f",
   "metadata": {},
   "outputs": [
    {
     "data": {
      "text/plain": [
       "(233684, 6)"
      ]
     },
     "execution_count": 241,
     "metadata": {},
     "output_type": "execute_result"
    }
   ],
   "source": [
    "\n",
    "df_select = df_select.loc[df_select['status'] =='complete']\n",
    "df_select.shape"
   ]
  },
  {
   "cell_type": "code",
   "execution_count": 242,
   "id": "097b9af6",
   "metadata": {},
   "outputs": [
    {
     "data": {
      "text/plain": [
       "(18775, 6)"
      ]
     },
     "execution_count": 242,
     "metadata": {},
     "output_type": "execute_result"
    }
   ],
   "source": [
    "merge_best=best_df.merge(df_select, how='left', on='Customer_ID')\n",
    "merge_best.shape"
   ]
  },
  {
   "cell_type": "code",
   "execution_count": 243,
   "id": "8e4d89d6",
   "metadata": {},
   "outputs": [
    {
     "data": {
      "text/plain": [
       "Customer_ID       0\n",
       "articles          0\n",
       "category_name     0\n",
       "status            0\n",
       "date              0\n",
       "payment_method    0\n",
       "dtype: int64"
      ]
     },
     "execution_count": 243,
     "metadata": {},
     "output_type": "execute_result"
    }
   ],
   "source": [
    "index_with_nan = merge_best.index[merge_best.isnull().any(axis=1)]\n",
    "merge_best.drop(index_with_nan,0, inplace=True)\n",
    "merge_best.isnull().sum()"
   ]
  },
  {
   "cell_type": "code",
   "execution_count": 244,
   "id": "2dc5ec1b",
   "metadata": {},
   "outputs": [
    {
     "data": {
      "text/plain": [
       "(14680, 6)"
      ]
     },
     "execution_count": 244,
     "metadata": {},
     "output_type": "execute_result"
    }
   ],
   "source": [
    "merge_best.shape"
   ]
  },
  {
   "cell_type": "code",
   "execution_count": 245,
   "id": "3746eb7b",
   "metadata": {},
   "outputs": [
    {
     "data": {
      "text/html": [
       "<div>\n",
       "<style scoped>\n",
       "    .dataframe tbody tr th:only-of-type {\n",
       "        vertical-align: middle;\n",
       "    }\n",
       "\n",
       "    .dataframe tbody tr th {\n",
       "        vertical-align: top;\n",
       "    }\n",
       "\n",
       "    .dataframe thead th {\n",
       "        text-align: right;\n",
       "    }\n",
       "</style>\n",
       "<table border=\"1\" class=\"dataframe\">\n",
       "  <thead>\n",
       "    <tr style=\"text-align: right;\">\n",
       "      <th></th>\n",
       "      <th>Customer_ID</th>\n",
       "    </tr>\n",
       "  </thead>\n",
       "  <tbody>\n",
       "    <tr>\n",
       "      <th>0</th>\n",
       "      <td>3</td>\n",
       "    </tr>\n",
       "    <tr>\n",
       "      <th>1</th>\n",
       "      <td>14</td>\n",
       "    </tr>\n",
       "    <tr>\n",
       "      <th>2</th>\n",
       "      <td>15</td>\n",
       "    </tr>\n",
       "    <tr>\n",
       "      <th>3</th>\n",
       "      <td>19</td>\n",
       "    </tr>\n",
       "    <tr>\n",
       "      <th>4</th>\n",
       "      <td>20</td>\n",
       "    </tr>\n",
       "    <tr>\n",
       "      <th>5</th>\n",
       "      <td>22</td>\n",
       "    </tr>\n",
       "    <tr>\n",
       "      <th>6</th>\n",
       "      <td>27</td>\n",
       "    </tr>\n",
       "    <tr>\n",
       "      <th>7</th>\n",
       "      <td>31</td>\n",
       "    </tr>\n",
       "    <tr>\n",
       "      <th>8</th>\n",
       "      <td>32</td>\n",
       "    </tr>\n",
       "    <tr>\n",
       "      <th>9</th>\n",
       "      <td>42</td>\n",
       "    </tr>\n",
       "  </tbody>\n",
       "</table>\n",
       "</div>"
      ],
      "text/plain": [
       "   Customer_ID\n",
       "0            3\n",
       "1           14\n",
       "2           15\n",
       "3           19\n",
       "4           20\n",
       "5           22\n",
       "6           27\n",
       "7           31\n",
       "8           32\n",
       "9           42"
      ]
     },
     "execution_count": 245,
     "metadata": {},
     "output_type": "execute_result"
    }
   ],
   "source": [
    "best_df.head(10)"
   ]
  },
  {
   "cell_type": "code",
   "execution_count": 246,
   "id": "c64f0482",
   "metadata": {},
   "outputs": [
    {
     "data": {
      "text/html": [
       "<div>\n",
       "<style scoped>\n",
       "    .dataframe tbody tr th:only-of-type {\n",
       "        vertical-align: middle;\n",
       "    }\n",
       "\n",
       "    .dataframe tbody tr th {\n",
       "        vertical-align: top;\n",
       "    }\n",
       "\n",
       "    .dataframe thead th {\n",
       "        text-align: right;\n",
       "    }\n",
       "</style>\n",
       "<table border=\"1\" class=\"dataframe\">\n",
       "  <thead>\n",
       "    <tr style=\"text-align: right;\">\n",
       "      <th></th>\n",
       "      <th>Customer_ID</th>\n",
       "      <th>articles</th>\n",
       "      <th>category_name</th>\n",
       "      <th>status</th>\n",
       "      <th>date</th>\n",
       "      <th>payment_method</th>\n",
       "    </tr>\n",
       "  </thead>\n",
       "  <tbody>\n",
       "    <tr>\n",
       "      <th>46</th>\n",
       "      <td>20</td>\n",
       "      <td>kcc_krone deal</td>\n",
       "      <td>Beauty &amp; Grooming</td>\n",
       "      <td>complete</td>\n",
       "      <td>2016-07-01</td>\n",
       "      <td>cod</td>\n",
       "    </tr>\n",
       "    <tr>\n",
       "      <th>51</th>\n",
       "      <td>20</td>\n",
       "      <td>kcc_krone deal</td>\n",
       "      <td>Beauty &amp; Grooming</td>\n",
       "      <td>complete</td>\n",
       "      <td>2016-07-01</td>\n",
       "      <td>cod</td>\n",
       "    </tr>\n",
       "    <tr>\n",
       "      <th>52</th>\n",
       "      <td>20</td>\n",
       "      <td>kcc_krone deal</td>\n",
       "      <td>Beauty &amp; Grooming</td>\n",
       "      <td>complete</td>\n",
       "      <td>2016-07-01</td>\n",
       "      <td>cod</td>\n",
       "    </tr>\n",
       "    <tr>\n",
       "      <th>53</th>\n",
       "      <td>20</td>\n",
       "      <td>kcc_krone deal</td>\n",
       "      <td>Beauty &amp; Grooming</td>\n",
       "      <td>complete</td>\n",
       "      <td>2016-07-01</td>\n",
       "      <td>cod</td>\n",
       "    </tr>\n",
       "    <tr>\n",
       "      <th>336</th>\n",
       "      <td>32</td>\n",
       "      <td>kcc_krone deal</td>\n",
       "      <td>Beauty &amp; Grooming</td>\n",
       "      <td>complete</td>\n",
       "      <td>2016-08-01</td>\n",
       "      <td>cod</td>\n",
       "    </tr>\n",
       "    <tr>\n",
       "      <th>...</th>\n",
       "      <td>...</td>\n",
       "      <td>...</td>\n",
       "      <td>...</td>\n",
       "      <td>...</td>\n",
       "      <td>...</td>\n",
       "      <td>...</td>\n",
       "    </tr>\n",
       "    <tr>\n",
       "      <th>9470</th>\n",
       "      <td>38173</td>\n",
       "      <td>kcc_krone deal</td>\n",
       "      <td>Beauty &amp; Grooming</td>\n",
       "      <td>complete</td>\n",
       "      <td>2017-03-01</td>\n",
       "      <td>cod</td>\n",
       "    </tr>\n",
       "    <tr>\n",
       "      <th>9481</th>\n",
       "      <td>38333</td>\n",
       "      <td>kcc_krone deal</td>\n",
       "      <td>Beauty &amp; Grooming</td>\n",
       "      <td>complete</td>\n",
       "      <td>2017-03-01</td>\n",
       "      <td>cod</td>\n",
       "    </tr>\n",
       "    <tr>\n",
       "      <th>9690</th>\n",
       "      <td>41259</td>\n",
       "      <td>kcc_krone deal</td>\n",
       "      <td>Beauty &amp; Grooming</td>\n",
       "      <td>complete</td>\n",
       "      <td>2017-04-01</td>\n",
       "      <td>cod</td>\n",
       "    </tr>\n",
       "    <tr>\n",
       "      <th>9706</th>\n",
       "      <td>41403</td>\n",
       "      <td>kcc_krone deal</td>\n",
       "      <td>Beauty &amp; Grooming</td>\n",
       "      <td>complete</td>\n",
       "      <td>2017-04-01</td>\n",
       "      <td>cod</td>\n",
       "    </tr>\n",
       "    <tr>\n",
       "      <th>9708</th>\n",
       "      <td>41443</td>\n",
       "      <td>kcc_krone deal</td>\n",
       "      <td>Beauty &amp; Grooming</td>\n",
       "      <td>complete</td>\n",
       "      <td>2017-04-01</td>\n",
       "      <td>cod</td>\n",
       "    </tr>\n",
       "  </tbody>\n",
       "</table>\n",
       "<p>332 rows × 6 columns</p>\n",
       "</div>"
      ],
      "text/plain": [
       "      Customer_ID        articles      category_name    status       date  \\\n",
       "46             20  kcc_krone deal  Beauty & Grooming  complete 2016-07-01   \n",
       "51             20  kcc_krone deal  Beauty & Grooming  complete 2016-07-01   \n",
       "52             20  kcc_krone deal  Beauty & Grooming  complete 2016-07-01   \n",
       "53             20  kcc_krone deal  Beauty & Grooming  complete 2016-07-01   \n",
       "336            32  kcc_krone deal  Beauty & Grooming  complete 2016-08-01   \n",
       "...           ...             ...                ...       ...        ...   \n",
       "9470        38173  kcc_krone deal  Beauty & Grooming  complete 2017-03-01   \n",
       "9481        38333  kcc_krone deal  Beauty & Grooming  complete 2017-03-01   \n",
       "9690        41259  kcc_krone deal  Beauty & Grooming  complete 2017-04-01   \n",
       "9706        41403  kcc_krone deal  Beauty & Grooming  complete 2017-04-01   \n",
       "9708        41443  kcc_krone deal  Beauty & Grooming  complete 2017-04-01   \n",
       "\n",
       "     payment_method  \n",
       "46              cod  \n",
       "51              cod  \n",
       "52              cod  \n",
       "53              cod  \n",
       "336             cod  \n",
       "...             ...  \n",
       "9470            cod  \n",
       "9481            cod  \n",
       "9690            cod  \n",
       "9706            cod  \n",
       "9708            cod  \n",
       "\n",
       "[332 rows x 6 columns]"
      ]
     },
     "execution_count": 246,
     "metadata": {},
     "output_type": "execute_result"
    }
   ],
   "source": [
    "merge_best[merge_best['articles']=='kcc_krone deal']"
   ]
  },
  {
   "cell_type": "code",
   "execution_count": 247,
   "id": "8a0eeb83",
   "metadata": {},
   "outputs": [
    {
     "data": {
      "text/plain": [
       "[(('kcc_krone deal',), 332),\n",
       " (('MATSAM59DB75ADB2F80',), 126),\n",
       " (('RB_Harpic Loot Sale-bf',), 124),\n",
       " (('kcc_jazzy',), 111),\n",
       " (('emart_00-7',), 106),\n",
       " (('kcc_glamour deal',), 92),\n",
       " (('RB_Household Bundle',), 89),\n",
       " (('itter_AB 1211',), 86),\n",
       " (('Al Muhafiz Sohan Halwa Almond',), 80),\n",
       " (('RS_Soan Papri-500gm',), 76),\n",
       " (('BO_shovel-truck-orange',), 74),\n",
       " (('RB_Veet-bf',), 73),\n",
       " (('RB_Personal Care-bf',), 73),\n",
       " (('RS_Plain Rusk',), 69),\n",
       " (('RB_HouseholdBundle',), 68),\n",
       " (('RS_Soan Papri-250gm',), 68),\n",
       " (('unilever_Deal-6',), 61),\n",
       " (('MATSAM5A7463EE3C1A5',), 61),\n",
       " (('kcc_effect',), 56),\n",
       " (('emart_00-1',), 39)]"
      ]
     },
     "execution_count": 247,
     "metadata": {},
     "output_type": "execute_result"
    }
   ],
   "source": [
    "import itertools as it\n",
    "from collections import Counter\n",
    "\n",
    "count=Counter()\n",
    "\n",
    "for row in merge_best['articles']:\n",
    "    row_list=row.split(',')\n",
    "    count.update(Counter(it.combinations(row_list,1)))\n",
    "    \n",
    "count.most_common(20)"
   ]
  },
  {
   "cell_type": "code",
   "execution_count": 248,
   "id": "6415c128",
   "metadata": {},
   "outputs": [
    {
     "data": {
      "text/plain": [
       "[(('Nikon_Nikon COOLPIX L27 Compact Digital Camera - White (16.1MP', ''), 2),\n",
       " (('Just Clothing_69-Combo Pull over Hoodie h.grey', 'charcoal (Milan'), 1),\n",
       " (('Just Clothing_69-Combo Pull over Hoodie h.grey', 'C'), 1),\n",
       " (('charcoal (Milan', 'C'), 1),\n",
       " (('Just Clothing_73-Combo Pull over Hoodie Black', 'blue (limited'), 1),\n",
       " (('Just Clothing_73-Combo Pull over Hoodie Black', 'pull'), 1),\n",
       " (('blue (limited', 'pull'), 1),\n",
       " (('Just Clothing_71-Combo Zipper Hoodie blue', 'H.grey-medium'), 1),\n",
       " (('mytee_Mytee293-Red', ' White'), 1),\n",
       " (('mytee_Mytee293-Red', ' Black-S'), 1),\n",
       " ((' White', ' Black-S'), 1),\n",
       " (('aw_VN-0001-5Pack-Black', ' White'), 1),\n",
       " (('aw_VN-0001-5Pack-Black', ' Red'), 1),\n",
       " (('aw_VN-0001-5Pack-Black', ' Royal Blue & HeatherGrey-XL'), 1),\n",
       " ((' White', ' Red'), 1),\n",
       " ((' White', ' Royal Blue & HeatherGrey-XL'), 1),\n",
       " ((' Red', ' Royal Blue & HeatherGrey-XL'), 1),\n",
       " (('twh_Prntclshrt10-Grey', 'Blue'), 1),\n",
       " (('twh_Prntclshrt10-Grey', 'White-L'), 1),\n",
       " (('Blue', 'White-L'), 1)]"
      ]
     },
     "execution_count": 248,
     "metadata": {},
     "output_type": "execute_result"
    }
   ],
   "source": [
    "import itertools as it\n",
    "from collections import Counter\n",
    "\n",
    "count=Counter()\n",
    "\n",
    "for row in merge_best['articles']:\n",
    "    row_list=row.split(',')\n",
    "    count.update(Counter(it.combinations(row_list,2)))\n",
    "    \n",
    "count.most_common(20)"
   ]
  },
  {
   "cell_type": "markdown",
   "id": "7c76fd11",
   "metadata": {},
   "source": [
    "moyen de payement"
   ]
  },
  {
   "cell_type": "code",
   "execution_count": 304,
   "id": "85517de7",
   "metadata": {},
   "outputs": [
    {
     "name": "stdout",
     "output_type": "stream",
     "text": [
      "0.6571525885558583\n"
     ]
    }
   ],
   "source": [
    "print(len(merge_best[merge_best['payment_method']=='cod'])/len(merge_best)+\n",
    "len(merge_best[merge_best['payment_method']=='cashatdoorstep'])/len(merge_best) )"
   ]
  },
  {
   "cell_type": "raw",
   "id": "5bb71ae6",
   "metadata": {},
   "source": [
    " ==> il y a 65,72% qui payent cash à la livraison"
   ]
  },
  {
   "cell_type": "code",
   "execution_count": 337,
   "id": "fc2bc4e3",
   "metadata": {},
   "outputs": [
    {
     "data": {
      "text/plain": [
       "65.71525885558583"
      ]
     },
     "execution_count": 337,
     "metadata": {},
     "output_type": "execute_result"
    }
   ],
   "source": [
    "cash_best=(len(merge_best[merge_best['payment_method']=='cod'])/len(merge_best)+\n",
    "len(merge_best[merge_best['payment_method']=='cashatdoorstep'])/len(merge_best) )*100"
   ]
  },
  {
   "cell_type": "code",
   "execution_count": 339,
   "id": "72d33db8",
   "metadata": {},
   "outputs": [
    {
     "data": {
      "text/plain": [
       "2.595367847411444"
      ]
     },
     "execution_count": 339,
     "metadata": {},
     "output_type": "execute_result"
    }
   ],
   "source": [
    "marketing_best=(len(merge_best[merge_best['payment_method']=='jazzvoucher'])/len(merge_best) +\n",
    "len(merge_best[merge_best['payment_method']=='marketingexpense'])/len(merge_best) )*100\n",
    "marketing_best"
   ]
  },
  {
   "cell_type": "code",
   "execution_count": 340,
   "id": "3916e180",
   "metadata": {},
   "outputs": [],
   "source": [
    "credit_best=(len(merge_best[merge_best['payment_method']=='customercredit'])/len(merge_best) +\n",
    "len(merge_best[merge_best['payment_method']=='productcredit'])/len(merge_best) +\n",
    "len(merge_best[merge_best['payment_method']=='financesettlement'])/len(merge_best) )*100"
   ]
  },
  {
   "cell_type": "code",
   "execution_count": 342,
   "id": "1b868938",
   "metadata": {},
   "outputs": [
    {
     "data": {
      "text/plain": [
       "30.313351498637616"
      ]
     },
     "execution_count": 342,
     "metadata": {},
     "output_type": "execute_result"
    }
   ],
   "source": [
    "card_best=100-(cash_best+marketing_best+credit_best)\n",
    "card_best"
   ]
  },
  {
   "cell_type": "markdown",
   "id": "1cfc49a1",
   "metadata": {},
   "source": [
    "catégories"
   ]
  },
  {
   "cell_type": "code",
   "execution_count": 367,
   "id": "e767688d",
   "metadata": {},
   "outputs": [],
   "source": [
    "electro_best=(len(merge_best[merge_best['category_name']=='Mobiles & Tablets'])/len(merge_best)+\n",
    "     len(merge_best[merge_best['category_name']==\"Computing\"])/len(merge_best)+\n",
    "     len(merge_best[merge_best['category_name']==\"Appliances\"])/len(merge_best))*100"
   ]
  },
  {
   "cell_type": "code",
   "execution_count": 370,
   "id": "06be9172",
   "metadata": {},
   "outputs": [],
   "source": [
    "fashion_best=(len(merge_best[merge_best['category_name']==\"Women's Fashion\"])/len(merge_best)+\n",
    "     len(merge_best[merge_best['category_name']==\"Men's Fashion\"])/len(merge_best)+\n",
    "     len(merge_best[merge_best['category_name']==\"Kids & Baby\"])/len(merge_best))*100"
   ]
  },
  {
   "cell_type": "code",
   "execution_count": 371,
   "id": "789ee1f8",
   "metadata": {},
   "outputs": [],
   "source": [
    "epicery_best=(len(merge_best[merge_best['category_name']==\"Soghaat\"])/len(merge_best)+\n",
    "     len(merge_best[merge_best['category_name']==\"Superstore\"])/len(merge_best)+\n",
    "     len(merge_best[merge_best['category_name']==\"Beauty & Grooming\"])/len(merge_best))*100"
   ]
  },
  {
   "cell_type": "code",
   "execution_count": 372,
   "id": "4a67592b",
   "metadata": {},
   "outputs": [],
   "source": [
    "home_best=(len(merge_best[merge_best['category_name']==\"Home & Living\"])/len(merge_best))*100"
   ]
  },
  {
   "cell_type": "code",
   "execution_count": 373,
   "id": "846864c4",
   "metadata": {},
   "outputs": [],
   "source": [
    "entertainement_best=(len(merge_best[merge_best['category_name']=='Entertainment'])/len(merge_best)+\n",
    "     len(merge_best[merge_best['category_name']==\"Health & Sports\"])/len(merge_best))*100"
   ]
  },
  {
   "cell_type": "code",
   "execution_count": 374,
   "id": "a010f73c",
   "metadata": {},
   "outputs": [
    {
     "data": {
      "text/plain": [
       "3.7670299727520415"
      ]
     },
     "execution_count": 374,
     "metadata": {},
     "output_type": "execute_result"
    }
   ],
   "source": [
    "others_best=100-(electro_best+fashion_best+epicery_best+home_best+entertainement_best)\n",
    "others_best"
   ]
  },
  {
   "cell_type": "markdown",
   "id": "d062aaf1",
   "metadata": {},
   "source": [
    "# Good Customer"
   ]
  },
  {
   "cell_type": "code",
   "execution_count": null,
   "id": "9e9b8e12",
   "metadata": {},
   "outputs": [],
   "source": []
  },
  {
   "cell_type": "code",
   "execution_count": 270,
   "id": "abe460f1",
   "metadata": {},
   "outputs": [
    {
     "data": {
      "text/plain": [
       "(20445, 6)"
      ]
     },
     "execution_count": 270,
     "metadata": {},
     "output_type": "execute_result"
    }
   ],
   "source": [
    "\n",
    "merge_good=good_df.merge(df_select, how='left', on='Customer_ID')\n",
    "merge_good.shape"
   ]
  },
  {
   "cell_type": "code",
   "execution_count": 271,
   "id": "ab1e19b9",
   "metadata": {},
   "outputs": [
    {
     "data": {
      "text/plain": [
       "Customer_ID          0\n",
       "articles          2357\n",
       "category_name     2357\n",
       "status            2357\n",
       "date              2357\n",
       "payment_method    2357\n",
       "dtype: int64"
      ]
     },
     "execution_count": 271,
     "metadata": {},
     "output_type": "execute_result"
    }
   ],
   "source": [
    "merge_good.isnull().sum()"
   ]
  },
  {
   "cell_type": "code",
   "execution_count": 272,
   "id": "8b570302",
   "metadata": {},
   "outputs": [
    {
     "data": {
      "text/plain": [
       "Customer_ID       0\n",
       "articles          0\n",
       "category_name     0\n",
       "status            0\n",
       "date              0\n",
       "payment_method    0\n",
       "dtype: int64"
      ]
     },
     "execution_count": 272,
     "metadata": {},
     "output_type": "execute_result"
    }
   ],
   "source": [
    "index_with_nan = merge_good.index[merge_good.isnull().any(axis=1)]\n",
    "merge_good.drop(index_with_nan,0, inplace=True)\n",
    "merge_good.isnull().sum()"
   ]
  },
  {
   "cell_type": "code",
   "execution_count": 273,
   "id": "78f7d396",
   "metadata": {},
   "outputs": [
    {
     "data": {
      "text/plain": [
       "(18088, 6)"
      ]
     },
     "execution_count": 273,
     "metadata": {},
     "output_type": "execute_result"
    }
   ],
   "source": [
    "merge_good.shape"
   ]
  },
  {
   "cell_type": "code",
   "execution_count": 274,
   "id": "2993fd18",
   "metadata": {},
   "outputs": [
    {
     "data": {
      "text/html": [
       "<div>\n",
       "<style scoped>\n",
       "    .dataframe tbody tr th:only-of-type {\n",
       "        vertical-align: middle;\n",
       "    }\n",
       "\n",
       "    .dataframe tbody tr th {\n",
       "        vertical-align: top;\n",
       "    }\n",
       "\n",
       "    .dataframe thead th {\n",
       "        text-align: right;\n",
       "    }\n",
       "</style>\n",
       "<table border=\"1\" class=\"dataframe\">\n",
       "  <thead>\n",
       "    <tr style=\"text-align: right;\">\n",
       "      <th></th>\n",
       "      <th>Customer_ID</th>\n",
       "    </tr>\n",
       "  </thead>\n",
       "  <tbody>\n",
       "    <tr>\n",
       "      <th>0</th>\n",
       "      <td>10</td>\n",
       "    </tr>\n",
       "    <tr>\n",
       "      <th>1</th>\n",
       "      <td>12</td>\n",
       "    </tr>\n",
       "    <tr>\n",
       "      <th>2</th>\n",
       "      <td>34</td>\n",
       "    </tr>\n",
       "    <tr>\n",
       "      <th>3</th>\n",
       "      <td>35</td>\n",
       "    </tr>\n",
       "    <tr>\n",
       "      <th>4</th>\n",
       "      <td>41</td>\n",
       "    </tr>\n",
       "    <tr>\n",
       "      <th>5</th>\n",
       "      <td>47</td>\n",
       "    </tr>\n",
       "    <tr>\n",
       "      <th>6</th>\n",
       "      <td>54</td>\n",
       "    </tr>\n",
       "    <tr>\n",
       "      <th>7</th>\n",
       "      <td>65</td>\n",
       "    </tr>\n",
       "    <tr>\n",
       "      <th>8</th>\n",
       "      <td>72</td>\n",
       "    </tr>\n",
       "    <tr>\n",
       "      <th>9</th>\n",
       "      <td>82</td>\n",
       "    </tr>\n",
       "  </tbody>\n",
       "</table>\n",
       "</div>"
      ],
      "text/plain": [
       "   Customer_ID\n",
       "0           10\n",
       "1           12\n",
       "2           34\n",
       "3           35\n",
       "4           41\n",
       "5           47\n",
       "6           54\n",
       "7           65\n",
       "8           72\n",
       "9           82"
      ]
     },
     "execution_count": 274,
     "metadata": {},
     "output_type": "execute_result"
    }
   ],
   "source": [
    "good_df.head(10)"
   ]
  },
  {
   "cell_type": "code",
   "execution_count": 275,
   "id": "087b6ae7",
   "metadata": {},
   "outputs": [
    {
     "data": {
      "text/html": [
       "<div>\n",
       "<style scoped>\n",
       "    .dataframe tbody tr th:only-of-type {\n",
       "        vertical-align: middle;\n",
       "    }\n",
       "\n",
       "    .dataframe tbody tr th {\n",
       "        vertical-align: top;\n",
       "    }\n",
       "\n",
       "    .dataframe thead th {\n",
       "        text-align: right;\n",
       "    }\n",
       "</style>\n",
       "<table border=\"1\" class=\"dataframe\">\n",
       "  <thead>\n",
       "    <tr style=\"text-align: right;\">\n",
       "      <th></th>\n",
       "      <th>Customer_ID</th>\n",
       "      <th>articles</th>\n",
       "      <th>category_name</th>\n",
       "      <th>status</th>\n",
       "      <th>date</th>\n",
       "      <th>payment_method</th>\n",
       "    </tr>\n",
       "  </thead>\n",
       "  <tbody>\n",
       "    <tr>\n",
       "      <th>655</th>\n",
       "      <td>35</td>\n",
       "      <td>Al Muhafiz Sohan Halwa Almond</td>\n",
       "      <td>Soghaat</td>\n",
       "      <td>complete</td>\n",
       "      <td>2016-09-01</td>\n",
       "      <td>cod</td>\n",
       "    </tr>\n",
       "    <tr>\n",
       "      <th>656</th>\n",
       "      <td>35</td>\n",
       "      <td>Al Muhafiz Sohan Halwa Almond</td>\n",
       "      <td>Soghaat</td>\n",
       "      <td>complete</td>\n",
       "      <td>2016-09-01</td>\n",
       "      <td>cod</td>\n",
       "    </tr>\n",
       "    <tr>\n",
       "      <th>665</th>\n",
       "      <td>35</td>\n",
       "      <td>Al Muhafiz Sohan Halwa Almond</td>\n",
       "      <td>Soghaat</td>\n",
       "      <td>complete</td>\n",
       "      <td>2016-09-01</td>\n",
       "      <td>cod</td>\n",
       "    </tr>\n",
       "    <tr>\n",
       "      <th>708</th>\n",
       "      <td>35</td>\n",
       "      <td>Al Muhafiz Sohan Halwa Almond</td>\n",
       "      <td>Soghaat</td>\n",
       "      <td>complete</td>\n",
       "      <td>2016-09-01</td>\n",
       "      <td>cod</td>\n",
       "    </tr>\n",
       "    <tr>\n",
       "      <th>709</th>\n",
       "      <td>35</td>\n",
       "      <td>Al Muhafiz Sohan Halwa Almond</td>\n",
       "      <td>Soghaat</td>\n",
       "      <td>complete</td>\n",
       "      <td>2016-09-01</td>\n",
       "      <td>cod</td>\n",
       "    </tr>\n",
       "    <tr>\n",
       "      <th>...</th>\n",
       "      <td>...</td>\n",
       "      <td>...</td>\n",
       "      <td>...</td>\n",
       "      <td>...</td>\n",
       "      <td>...</td>\n",
       "      <td>...</td>\n",
       "    </tr>\n",
       "    <tr>\n",
       "      <th>10187</th>\n",
       "      <td>32136</td>\n",
       "      <td>Al Muhafiz Sohan Halwa Almond</td>\n",
       "      <td>Soghaat</td>\n",
       "      <td>complete</td>\n",
       "      <td>2017-01-01</td>\n",
       "      <td>cod</td>\n",
       "    </tr>\n",
       "    <tr>\n",
       "      <th>13677</th>\n",
       "      <td>51171</td>\n",
       "      <td>Al Muhafiz Sohan Halwa Almond</td>\n",
       "      <td>Soghaat</td>\n",
       "      <td>complete</td>\n",
       "      <td>2017-08-01</td>\n",
       "      <td>cod</td>\n",
       "    </tr>\n",
       "    <tr>\n",
       "      <th>13985</th>\n",
       "      <td>53227</td>\n",
       "      <td>Al Muhafiz Sohan Halwa Almond</td>\n",
       "      <td>Soghaat</td>\n",
       "      <td>complete</td>\n",
       "      <td>2017-07-01</td>\n",
       "      <td>cod</td>\n",
       "    </tr>\n",
       "    <tr>\n",
       "      <th>14394</th>\n",
       "      <td>54501</td>\n",
       "      <td>Al Muhafiz Sohan Halwa Almond</td>\n",
       "      <td>Soghaat</td>\n",
       "      <td>complete</td>\n",
       "      <td>2017-07-01</td>\n",
       "      <td>cod</td>\n",
       "    </tr>\n",
       "    <tr>\n",
       "      <th>15737</th>\n",
       "      <td>59819</td>\n",
       "      <td>Al Muhafiz Sohan Halwa Almond</td>\n",
       "      <td>Soghaat</td>\n",
       "      <td>complete</td>\n",
       "      <td>2017-08-01</td>\n",
       "      <td>cod</td>\n",
       "    </tr>\n",
       "  </tbody>\n",
       "</table>\n",
       "<p>136 rows × 6 columns</p>\n",
       "</div>"
      ],
      "text/plain": [
       "       Customer_ID                       articles category_name    status  \\\n",
       "655             35  Al Muhafiz Sohan Halwa Almond       Soghaat  complete   \n",
       "656             35  Al Muhafiz Sohan Halwa Almond       Soghaat  complete   \n",
       "665             35  Al Muhafiz Sohan Halwa Almond       Soghaat  complete   \n",
       "708             35  Al Muhafiz Sohan Halwa Almond       Soghaat  complete   \n",
       "709             35  Al Muhafiz Sohan Halwa Almond       Soghaat  complete   \n",
       "...            ...                            ...           ...       ...   \n",
       "10187        32136  Al Muhafiz Sohan Halwa Almond       Soghaat  complete   \n",
       "13677        51171  Al Muhafiz Sohan Halwa Almond       Soghaat  complete   \n",
       "13985        53227  Al Muhafiz Sohan Halwa Almond       Soghaat  complete   \n",
       "14394        54501  Al Muhafiz Sohan Halwa Almond       Soghaat  complete   \n",
       "15737        59819  Al Muhafiz Sohan Halwa Almond       Soghaat  complete   \n",
       "\n",
       "            date payment_method  \n",
       "655   2016-09-01            cod  \n",
       "656   2016-09-01            cod  \n",
       "665   2016-09-01            cod  \n",
       "708   2016-09-01            cod  \n",
       "709   2016-09-01            cod  \n",
       "...          ...            ...  \n",
       "10187 2017-01-01            cod  \n",
       "13677 2017-08-01            cod  \n",
       "13985 2017-07-01            cod  \n",
       "14394 2017-07-01            cod  \n",
       "15737 2017-08-01            cod  \n",
       "\n",
       "[136 rows x 6 columns]"
      ]
     },
     "execution_count": 275,
     "metadata": {},
     "output_type": "execute_result"
    }
   ],
   "source": [
    "merge_good[merge_good['articles']=='Al Muhafiz Sohan Halwa Almond']"
   ]
  },
  {
   "cell_type": "code",
   "execution_count": 276,
   "id": "f54da63a",
   "metadata": {},
   "outputs": [
    {
     "data": {
      "text/plain": [
       "[(('kcc_krone deal',), 266),\n",
       " (('RS_Coconut Bites',), 184),\n",
       " (('MATSAM59DB75ADB2F80',), 169),\n",
       " (('Al Muhafiz Sohan Halwa Almond',), 136),\n",
       " (('sockoye_CB-Crew Black',), 113),\n",
       " (('sockoye_CG Crew Grey',), 100),\n",
       " (('RS_Nan Khatai',), 89),\n",
       " (('RS_Soan Papri-250gm',), 89),\n",
       " (('BO_nonRC-Jeep-Silver',), 86),\n",
       " (('emart_00-7',), 78),\n",
       " (('kcc_glamour deal',), 74),\n",
       " (('RS_Habshi Halwa Tin',), 67),\n",
       " (('RS_Plain Rusk Pack of 3',), 56),\n",
       " (('Al Muhafiz Sohan Halwa Walnut',), 53),\n",
       " (('RB_Household Bundle',), 49),\n",
       " (('RB_HouseholdBundle',), 45),\n",
       " (('RS_Sohan Halwa Tin',), 44),\n",
       " ((\"herbion_Linkus Nova 8's Lozenges - Honey Lemon\",), 43),\n",
       " (('BO_shovel-truck-orange',), 42),\n",
       " (('unilever_Deal-6',), 42)]"
      ]
     },
     "execution_count": 276,
     "metadata": {},
     "output_type": "execute_result"
    }
   ],
   "source": [
    "import itertools as it\n",
    "from collections import Counter\n",
    "\n",
    "count=Counter()\n",
    "\n",
    "for row in merge_good['articles']:\n",
    "    row_list=row.split(',')\n",
    "    count.update(Counter(it.combinations(row_list,1)))\n",
    "    \n",
    "count.most_common(20)"
   ]
  },
  {
   "cell_type": "code",
   "execution_count": 355,
   "id": "215602e2",
   "metadata": {},
   "outputs": [],
   "source": [
    "cash_good=(len(merge_good[merge_good['payment_method']=='cod'])/len(merge_good)+\n",
    "len(merge_good[merge_good['payment_method']=='cashatdoorstep'])/len(merge_good))*100"
   ]
  },
  {
   "cell_type": "code",
   "execution_count": 356,
   "id": "89a10534",
   "metadata": {},
   "outputs": [],
   "source": [
    "marketing_good=(len(merge_good[merge_good['payment_method']=='jazzvoucher'])/len(merge_good) +\n",
    "len(merge_good[merge_good['payment_method']=='marketingexpense'])/len(merge_good) )*100"
   ]
  },
  {
   "cell_type": "code",
   "execution_count": 357,
   "id": "103fcebc",
   "metadata": {},
   "outputs": [],
   "source": [
    "credit_good=(len(merge_good[merge_good['payment_method']=='customercredit'])/len(merge_good) +\n",
    "len(merge_good[merge_good['payment_method']=='productcredit'])/len(merge_good) +\n",
    "len(merge_good[merge_good['payment_method']=='financesettlement'])/len(merge_good))*100"
   ]
  },
  {
   "cell_type": "code",
   "execution_count": 359,
   "id": "a4bca53c",
   "metadata": {},
   "outputs": [
    {
     "data": {
      "text/plain": [
       "32.14285714285715"
      ]
     },
     "execution_count": 359,
     "metadata": {},
     "output_type": "execute_result"
    }
   ],
   "source": [
    "card_good=100-(cash_good+marketing_good+credit_good)\n",
    "card_good"
   ]
  },
  {
   "cell_type": "code",
   "execution_count": null,
   "id": "43f662b0",
   "metadata": {},
   "outputs": [],
   "source": []
  },
  {
   "cell_type": "code",
   "execution_count": null,
   "id": "e822db3b",
   "metadata": {},
   "outputs": [],
   "source": []
  },
  {
   "cell_type": "code",
   "execution_count": 376,
   "id": "e6205b05",
   "metadata": {},
   "outputs": [],
   "source": [
    "electro_good=(len(merge_good[merge_good['category_name']=='Mobiles & Tablets'])/len(merge_good)+\n",
    "     len(merge_good[merge_good['category_name']==\"Computing\"])/len(merge_good)+\n",
    "     len(merge_good[merge_good['category_name']==\"Appliances\"])/len(merge_good))*100"
   ]
  },
  {
   "cell_type": "code",
   "execution_count": 377,
   "id": "45a0aedf",
   "metadata": {},
   "outputs": [],
   "source": [
    "fashion_good=(len(merge_good[merge_good['category_name']==\"Women's Fashion\"])/len(merge_good)+\n",
    "     len(merge_good[merge_good['category_name']==\"Men's Fashion\"])/len(merge_good)+\n",
    "     len(merge_good[merge_good['category_name']==\"Kids & Baby\"])/len(merge_good))*100"
   ]
  },
  {
   "cell_type": "code",
   "execution_count": 379,
   "id": "aef8fc6e",
   "metadata": {},
   "outputs": [],
   "source": [
    "epicery_good=(len(merge_good[merge_good['category_name']==\"Soghaat\"])/len(merge_good)+\n",
    "     len(merge_good[merge_good['category_name']==\"Superstore\"])/len(merge_good)+\n",
    "     len(merge_good[merge_good['category_name']==\"Beauty & Grooming\"])/len(merge_good))*100"
   ]
  },
  {
   "cell_type": "code",
   "execution_count": 380,
   "id": "c98f90b1",
   "metadata": {},
   "outputs": [],
   "source": [
    "home_good=(len(merge_good[merge_good['category_name']==\"Home & Living\"])/len(merge_good))*100"
   ]
  },
  {
   "cell_type": "code",
   "execution_count": 381,
   "id": "3c5cb484",
   "metadata": {},
   "outputs": [],
   "source": [
    "entertainement_good=(len(merge_good[merge_good['category_name']=='Entertainment'])/len(merge_good)+\n",
    "     len(merge_good[merge_good['category_name']==\"Health & Sports\"])/len(merge_good))*100"
   ]
  },
  {
   "cell_type": "code",
   "execution_count": 382,
   "id": "3ca52b97",
   "metadata": {},
   "outputs": [
    {
     "data": {
      "text/plain": [
       "3.89761167624944"
      ]
     },
     "execution_count": 382,
     "metadata": {},
     "output_type": "execute_result"
    }
   ],
   "source": [
    "others_good=100-(electro_good+fashion_good+epicery_good+home_good+entertainement_good)\n",
    "others_good"
   ]
  },
  {
   "cell_type": "markdown",
   "id": "c2262791",
   "metadata": {},
   "source": [
    "# Medium Customer"
   ]
  },
  {
   "cell_type": "code",
   "execution_count": null,
   "id": "232cc3d5",
   "metadata": {},
   "outputs": [],
   "source": []
  },
  {
   "cell_type": "code",
   "execution_count": null,
   "id": "5985dab8",
   "metadata": {},
   "outputs": [],
   "source": []
  },
  {
   "cell_type": "code",
   "execution_count": 286,
   "id": "e9e9d888",
   "metadata": {},
   "outputs": [
    {
     "data": {
      "text/plain": [
       "(4572, 6)"
      ]
     },
     "execution_count": 286,
     "metadata": {},
     "output_type": "execute_result"
    }
   ],
   "source": [
    "merge_medium=medium_df.merge(df_select, how='left', on='Customer_ID')\n",
    "merge_medium.shape"
   ]
  },
  {
   "cell_type": "code",
   "execution_count": 287,
   "id": "cf779ea1",
   "metadata": {},
   "outputs": [
    {
     "data": {
      "text/plain": [
       "Customer_ID         0\n",
       "articles          143\n",
       "category_name     143\n",
       "status            143\n",
       "date              143\n",
       "payment_method    143\n",
       "dtype: int64"
      ]
     },
     "execution_count": 287,
     "metadata": {},
     "output_type": "execute_result"
    }
   ],
   "source": [
    "merge_medium.isnull().sum()"
   ]
  },
  {
   "cell_type": "code",
   "execution_count": 288,
   "id": "f6330c43",
   "metadata": {},
   "outputs": [
    {
     "data": {
      "text/plain": [
       "Customer_ID       0\n",
       "articles          0\n",
       "category_name     0\n",
       "status            0\n",
       "date              0\n",
       "payment_method    0\n",
       "dtype: int64"
      ]
     },
     "execution_count": 288,
     "metadata": {},
     "output_type": "execute_result"
    }
   ],
   "source": [
    "index_with_nan = merge_medium.index[merge_medium.isnull().any(axis=1)]\n",
    "merge_medium.drop(index_with_nan,0, inplace=True)\n",
    "merge_medium.isnull().sum()"
   ]
  },
  {
   "cell_type": "code",
   "execution_count": 289,
   "id": "cae79d5f",
   "metadata": {},
   "outputs": [
    {
     "data": {
      "text/plain": [
       "(4429, 6)"
      ]
     },
     "execution_count": 289,
     "metadata": {},
     "output_type": "execute_result"
    }
   ],
   "source": [
    "merge_medium.shape"
   ]
  },
  {
   "cell_type": "code",
   "execution_count": 290,
   "id": "18fa35f5",
   "metadata": {},
   "outputs": [
    {
     "data": {
      "text/html": [
       "<div>\n",
       "<style scoped>\n",
       "    .dataframe tbody tr th:only-of-type {\n",
       "        vertical-align: middle;\n",
       "    }\n",
       "\n",
       "    .dataframe tbody tr th {\n",
       "        vertical-align: top;\n",
       "    }\n",
       "\n",
       "    .dataframe thead th {\n",
       "        text-align: right;\n",
       "    }\n",
       "</style>\n",
       "<table border=\"1\" class=\"dataframe\">\n",
       "  <thead>\n",
       "    <tr style=\"text-align: right;\">\n",
       "      <th></th>\n",
       "      <th>Customer_ID</th>\n",
       "    </tr>\n",
       "  </thead>\n",
       "  <tbody>\n",
       "    <tr>\n",
       "      <th>0</th>\n",
       "      <td>29</td>\n",
       "    </tr>\n",
       "    <tr>\n",
       "      <th>1</th>\n",
       "      <td>36</td>\n",
       "    </tr>\n",
       "    <tr>\n",
       "      <th>2</th>\n",
       "      <td>37</td>\n",
       "    </tr>\n",
       "    <tr>\n",
       "      <th>3</th>\n",
       "      <td>38</td>\n",
       "    </tr>\n",
       "    <tr>\n",
       "      <th>4</th>\n",
       "      <td>49</td>\n",
       "    </tr>\n",
       "    <tr>\n",
       "      <th>5</th>\n",
       "      <td>52</td>\n",
       "    </tr>\n",
       "    <tr>\n",
       "      <th>6</th>\n",
       "      <td>67</td>\n",
       "    </tr>\n",
       "    <tr>\n",
       "      <th>7</th>\n",
       "      <td>79</td>\n",
       "    </tr>\n",
       "    <tr>\n",
       "      <th>8</th>\n",
       "      <td>107</td>\n",
       "    </tr>\n",
       "    <tr>\n",
       "      <th>9</th>\n",
       "      <td>124</td>\n",
       "    </tr>\n",
       "  </tbody>\n",
       "</table>\n",
       "</div>"
      ],
      "text/plain": [
       "   Customer_ID\n",
       "0           29\n",
       "1           36\n",
       "2           37\n",
       "3           38\n",
       "4           49\n",
       "5           52\n",
       "6           67\n",
       "7           79\n",
       "8          107\n",
       "9          124"
      ]
     },
     "execution_count": 290,
     "metadata": {},
     "output_type": "execute_result"
    }
   ],
   "source": [
    "medium_df.head(10)"
   ]
  },
  {
   "cell_type": "code",
   "execution_count": 291,
   "id": "fedb2915",
   "metadata": {},
   "outputs": [
    {
     "data": {
      "text/html": [
       "<div>\n",
       "<style scoped>\n",
       "    .dataframe tbody tr th:only-of-type {\n",
       "        vertical-align: middle;\n",
       "    }\n",
       "\n",
       "    .dataframe tbody tr th {\n",
       "        vertical-align: top;\n",
       "    }\n",
       "\n",
       "    .dataframe thead th {\n",
       "        text-align: right;\n",
       "    }\n",
       "</style>\n",
       "<table border=\"1\" class=\"dataframe\">\n",
       "  <thead>\n",
       "    <tr style=\"text-align: right;\">\n",
       "      <th></th>\n",
       "      <th>Customer_ID</th>\n",
       "      <th>articles</th>\n",
       "      <th>category_name</th>\n",
       "      <th>status</th>\n",
       "      <th>date</th>\n",
       "      <th>payment_method</th>\n",
       "    </tr>\n",
       "  </thead>\n",
       "  <tbody>\n",
       "    <tr>\n",
       "      <th>1100</th>\n",
       "      <td>124</td>\n",
       "      <td>joko_NJLA40031-B</td>\n",
       "      <td>Beauty &amp; Grooming</td>\n",
       "      <td>complete</td>\n",
       "      <td>2016-09-01</td>\n",
       "      <td>cod</td>\n",
       "    </tr>\n",
       "    <tr>\n",
       "      <th>1101</th>\n",
       "      <td>124</td>\n",
       "      <td>kcc_classy</td>\n",
       "      <td>Beauty &amp; Grooming</td>\n",
       "      <td>complete</td>\n",
       "      <td>2016-09-01</td>\n",
       "      <td>cod</td>\n",
       "    </tr>\n",
       "    <tr>\n",
       "      <th>1102</th>\n",
       "      <td>124</td>\n",
       "      <td>sanasafinaz_SS-8B</td>\n",
       "      <td>Women's Fashion</td>\n",
       "      <td>complete</td>\n",
       "      <td>2017-03-01</td>\n",
       "      <td>cod</td>\n",
       "    </tr>\n",
       "    <tr>\n",
       "      <th>1103</th>\n",
       "      <td>124</td>\n",
       "      <td>sanasafinaz_SS-3B</td>\n",
       "      <td>Women's Fashion</td>\n",
       "      <td>complete</td>\n",
       "      <td>2017-03-01</td>\n",
       "      <td>cod</td>\n",
       "    </tr>\n",
       "  </tbody>\n",
       "</table>\n",
       "</div>"
      ],
      "text/plain": [
       "      Customer_ID           articles      category_name    status       date  \\\n",
       "1100          124   joko_NJLA40031-B  Beauty & Grooming  complete 2016-09-01   \n",
       "1101          124         kcc_classy  Beauty & Grooming  complete 2016-09-01   \n",
       "1102          124  sanasafinaz_SS-8B    Women's Fashion  complete 2017-03-01   \n",
       "1103          124  sanasafinaz_SS-3B    Women's Fashion  complete 2017-03-01   \n",
       "\n",
       "     payment_method  \n",
       "1100            cod  \n",
       "1101            cod  \n",
       "1102            cod  \n",
       "1103            cod  "
      ]
     },
     "execution_count": 291,
     "metadata": {},
     "output_type": "execute_result"
    }
   ],
   "source": [
    "merge_medium[merge_medium['Customer_ID']==124]"
   ]
  },
  {
   "cell_type": "code",
   "execution_count": 292,
   "id": "d736823c",
   "metadata": {},
   "outputs": [
    {
     "data": {
      "text/plain": [
       "[(('kcc_krone deal',), 146),\n",
       " (('kcc_glamour deal',), 80),\n",
       " (('Al Muhafiz Sohan Halwa Almond',), 60),\n",
       " (('kcc_Buy 2 Frey Air Freshener & Get 1 Kasual Body Spray Free',), 53),\n",
       " (('IDROID_BALRX7-Gold',), 43),\n",
       " (('emart_00-7',), 35),\n",
       " (('Rubian_U8 Smart Watch',), 31),\n",
       " (('RB_Household Bundle',), 30),\n",
       " (('Al Muhafiz Sohan Halwa Walnut',), 29),\n",
       " (('kcc_blaze',), 29),\n",
       " (('Infinix Hot 4 Nationwide-Gold',), 27),\n",
       " (('RS_Habshi Halwa Tin',), 25),\n",
       " (('CA_shirt-Small',), 25),\n",
       " (('IDROID_BALRX7-Jet black ',), 24),\n",
       " (('emart_00-1',), 23),\n",
       " (('Infinix Hot 4 Nationwide-Black',), 21),\n",
       " (('Telemall_MM-DR-HB-L',), 21),\n",
       " (('kcc_jazzy',), 16),\n",
       " (('cr_SESAME BALL',), 16),\n",
       " (('unilever_Deal-6',), 16)]"
      ]
     },
     "execution_count": 292,
     "metadata": {},
     "output_type": "execute_result"
    }
   ],
   "source": [
    "import itertools as it\n",
    "from collections import Counter\n",
    "\n",
    "count=Counter()\n",
    "\n",
    "for row in merge_medium['articles']:\n",
    "    row_list=row.split(',')\n",
    "    count.update(Counter(it.combinations(row_list,1)))\n",
    "    \n",
    "count.most_common(20)"
   ]
  },
  {
   "cell_type": "code",
   "execution_count": 350,
   "id": "dfdb7a72",
   "metadata": {},
   "outputs": [],
   "source": [
    "cash_medium=(len(merge_medium[merge_medium['payment_method']=='cod'])/len(merge_medium)+\n",
    "len(merge_medium[merge_medium['payment_method']=='cashatdoorstep'])/len(merge_medium))*100"
   ]
  },
  {
   "cell_type": "code",
   "execution_count": 351,
   "id": "9fdc5269",
   "metadata": {},
   "outputs": [],
   "source": [
    "marketing_medium=(len(merge_medium[merge_medium['payment_method']=='jazzvoucher'])/len(merge_medium) +\n",
    "len(merge_medium[merge_medium['payment_method']=='marketingexpense'])/len(merge_medium) )*100"
   ]
  },
  {
   "cell_type": "code",
   "execution_count": 352,
   "id": "b4f8ad0d",
   "metadata": {},
   "outputs": [],
   "source": [
    "credit_medium=(len(merge_medium[merge_medium['payment_method']=='customercredit'])/len(merge_medium)+\n",
    "len(merge_medium[merge_medium['payment_method']=='productcredit'])/len(merge_medium)+\n",
    "len(merge_medium[merge_medium['payment_method']=='financesettlement'])/len(merge_medium))*100"
   ]
  },
  {
   "cell_type": "code",
   "execution_count": 354,
   "id": "07efff57",
   "metadata": {},
   "outputs": [
    {
     "data": {
      "text/plain": [
       "16.233912847143813"
      ]
     },
     "execution_count": 354,
     "metadata": {},
     "output_type": "execute_result"
    }
   ],
   "source": [
    "card_medium=100-(cash_medium+marketing_medium+credit_medium)\n",
    "card_medium"
   ]
  },
  {
   "cell_type": "code",
   "execution_count": null,
   "id": "0a803b93",
   "metadata": {},
   "outputs": [],
   "source": []
  },
  {
   "cell_type": "markdown",
   "id": "1184e3a0",
   "metadata": {},
   "source": [
    "catégories"
   ]
  },
  {
   "cell_type": "code",
   "execution_count": null,
   "id": "3839d959",
   "metadata": {},
   "outputs": [],
   "source": []
  },
  {
   "cell_type": "code",
   "execution_count": 383,
   "id": "2a695a02",
   "metadata": {},
   "outputs": [],
   "source": [
    "electro_medium=(len(merge_medium[merge_medium['category_name']=='Mobiles & Tablets'])/len(merge_medium)+\n",
    "     len(merge_medium[merge_medium['category_name']==\"Computing\"])/len(merge_medium)+\n",
    "     len(merge_medium[merge_medium['category_name']==\"Appliances\"])/len(merge_medium))*100"
   ]
  },
  {
   "cell_type": "code",
   "execution_count": 384,
   "id": "77553af4",
   "metadata": {},
   "outputs": [],
   "source": [
    "fashion_medium=(len(merge_medium[merge_medium['category_name']==\"Women's Fashion\"])/len(merge_medium)+\n",
    "     len(merge_medium[merge_medium['category_name']==\"Men's Fashion\"])/len(merge_medium)+\n",
    "     len(merge_medium[merge_medium['category_name']==\"Kids & Baby\"])/len(merge_medium))*100"
   ]
  },
  {
   "cell_type": "code",
   "execution_count": 385,
   "id": "d6b209f1",
   "metadata": {},
   "outputs": [],
   "source": [
    "epicery_medium=(len(merge_medium[merge_medium['category_name']==\"Soghaat\"])/len(merge_medium)+\n",
    "     len(merge_medium[merge_medium['category_name']==\"Superstore\"])/len(merge_medium)+\n",
    "     len(merge_medium[merge_medium['category_name']==\"Beauty & Grooming\"])/len(merge_medium))*100"
   ]
  },
  {
   "cell_type": "code",
   "execution_count": 386,
   "id": "a01d9aec",
   "metadata": {},
   "outputs": [],
   "source": [
    "home_medium=(len(merge_medium[merge_medium['category_name']==\"Home & Living\"])/len(merge_medium))*100"
   ]
  },
  {
   "cell_type": "code",
   "execution_count": 387,
   "id": "9d43c30b",
   "metadata": {},
   "outputs": [],
   "source": [
    "entertainement_medium=(len(merge_medium[merge_medium['category_name']=='Entertainment'])/len(merge_medium)+\n",
    "     len(merge_medium[merge_medium['category_name']==\"Health & Sports\"])/len(merge_medium))*100"
   ]
  },
  {
   "cell_type": "code",
   "execution_count": 388,
   "id": "a29dbf23",
   "metadata": {},
   "outputs": [
    {
     "data": {
      "text/plain": [
       "5.53172273650938"
      ]
     },
     "execution_count": 388,
     "metadata": {},
     "output_type": "execute_result"
    }
   ],
   "source": [
    "others_medium=100-(electro_medium+fashion_medium+epicery_medium+home_medium+entertainement_medium)\n",
    "others_medium"
   ]
  },
  {
   "cell_type": "code",
   "execution_count": null,
   "id": "e9d4392d",
   "metadata": {},
   "outputs": [],
   "source": []
  },
  {
   "cell_type": "markdown",
   "id": "0b506670",
   "metadata": {},
   "source": [
    "# Worst Customer"
   ]
  },
  {
   "cell_type": "code",
   "execution_count": null,
   "id": "6c4bc285",
   "metadata": {},
   "outputs": [],
   "source": []
  },
  {
   "cell_type": "code",
   "execution_count": null,
   "id": "0ab4834c",
   "metadata": {},
   "outputs": [],
   "source": []
  },
  {
   "cell_type": "code",
   "execution_count": 312,
   "id": "365888d4",
   "metadata": {},
   "outputs": [
    {
     "data": {
      "text/plain": [
       "(238103, 6)"
      ]
     },
     "execution_count": 312,
     "metadata": {},
     "output_type": "execute_result"
    }
   ],
   "source": [
    "\n",
    "merge_worst=worst_df.merge(df_select, how='left', on='Customer_ID')\n",
    "merge_worst.shape"
   ]
  },
  {
   "cell_type": "code",
   "execution_count": 313,
   "id": "def7b41d",
   "metadata": {},
   "outputs": [
    {
     "data": {
      "text/plain": [
       "Customer_ID           0\n",
       "articles          41616\n",
       "category_name     41616\n",
       "status            41616\n",
       "date              41616\n",
       "payment_method    41616\n",
       "dtype: int64"
      ]
     },
     "execution_count": 313,
     "metadata": {},
     "output_type": "execute_result"
    }
   ],
   "source": [
    "merge_worst.isnull().sum()"
   ]
  },
  {
   "cell_type": "code",
   "execution_count": 314,
   "id": "170f8d1c",
   "metadata": {},
   "outputs": [
    {
     "data": {
      "text/plain": [
       "Customer_ID       0\n",
       "articles          0\n",
       "category_name     0\n",
       "status            0\n",
       "date              0\n",
       "payment_method    0\n",
       "dtype: int64"
      ]
     },
     "execution_count": 314,
     "metadata": {},
     "output_type": "execute_result"
    }
   ],
   "source": [
    "index_with_nan = merge_worst.index[merge_worst.isnull().any(axis=1)]\n",
    "merge_worst.drop(index_with_nan,0, inplace=True)\n",
    "merge_worst.isnull().sum()"
   ]
  },
  {
   "cell_type": "code",
   "execution_count": 315,
   "id": "9c33ac78",
   "metadata": {},
   "outputs": [
    {
     "data": {
      "text/plain": [
       "(196487, 6)"
      ]
     },
     "execution_count": 315,
     "metadata": {},
     "output_type": "execute_result"
    }
   ],
   "source": [
    "merge_worst.shape"
   ]
  },
  {
   "cell_type": "code",
   "execution_count": 316,
   "id": "b67014c6",
   "metadata": {},
   "outputs": [
    {
     "data": {
      "text/html": [
       "<div>\n",
       "<style scoped>\n",
       "    .dataframe tbody tr th:only-of-type {\n",
       "        vertical-align: middle;\n",
       "    }\n",
       "\n",
       "    .dataframe tbody tr th {\n",
       "        vertical-align: top;\n",
       "    }\n",
       "\n",
       "    .dataframe thead th {\n",
       "        text-align: right;\n",
       "    }\n",
       "</style>\n",
       "<table border=\"1\" class=\"dataframe\">\n",
       "  <thead>\n",
       "    <tr style=\"text-align: right;\">\n",
       "      <th></th>\n",
       "      <th>Customer_ID</th>\n",
       "    </tr>\n",
       "  </thead>\n",
       "  <tbody>\n",
       "    <tr>\n",
       "      <th>0</th>\n",
       "      <td>0</td>\n",
       "    </tr>\n",
       "    <tr>\n",
       "      <th>1</th>\n",
       "      <td>1</td>\n",
       "    </tr>\n",
       "    <tr>\n",
       "      <th>2</th>\n",
       "      <td>2</td>\n",
       "    </tr>\n",
       "    <tr>\n",
       "      <th>3</th>\n",
       "      <td>4</td>\n",
       "    </tr>\n",
       "    <tr>\n",
       "      <th>4</th>\n",
       "      <td>5</td>\n",
       "    </tr>\n",
       "    <tr>\n",
       "      <th>5</th>\n",
       "      <td>6</td>\n",
       "    </tr>\n",
       "    <tr>\n",
       "      <th>6</th>\n",
       "      <td>7</td>\n",
       "    </tr>\n",
       "    <tr>\n",
       "      <th>7</th>\n",
       "      <td>8</td>\n",
       "    </tr>\n",
       "    <tr>\n",
       "      <th>8</th>\n",
       "      <td>9</td>\n",
       "    </tr>\n",
       "    <tr>\n",
       "      <th>9</th>\n",
       "      <td>11</td>\n",
       "    </tr>\n",
       "  </tbody>\n",
       "</table>\n",
       "</div>"
      ],
      "text/plain": [
       "   Customer_ID\n",
       "0            0\n",
       "1            1\n",
       "2            2\n",
       "3            4\n",
       "4            5\n",
       "5            6\n",
       "6            7\n",
       "7            8\n",
       "8            9\n",
       "9           11"
      ]
     },
     "execution_count": 316,
     "metadata": {},
     "output_type": "execute_result"
    }
   ],
   "source": [
    "worst_df.head(10)"
   ]
  },
  {
   "cell_type": "code",
   "execution_count": 317,
   "id": "8cd32238",
   "metadata": {},
   "outputs": [
    {
     "data": {
      "text/html": [
       "<div>\n",
       "<style scoped>\n",
       "    .dataframe tbody tr th:only-of-type {\n",
       "        vertical-align: middle;\n",
       "    }\n",
       "\n",
       "    .dataframe tbody tr th {\n",
       "        vertical-align: top;\n",
       "    }\n",
       "\n",
       "    .dataframe thead th {\n",
       "        text-align: right;\n",
       "    }\n",
       "</style>\n",
       "<table border=\"1\" class=\"dataframe\">\n",
       "  <thead>\n",
       "    <tr style=\"text-align: right;\">\n",
       "      <th></th>\n",
       "      <th>Customer_ID</th>\n",
       "      <th>articles</th>\n",
       "      <th>category_name</th>\n",
       "      <th>status</th>\n",
       "      <th>date</th>\n",
       "      <th>payment_method</th>\n",
       "    </tr>\n",
       "  </thead>\n",
       "  <tbody>\n",
       "    <tr>\n",
       "      <th>235</th>\n",
       "      <td>4</td>\n",
       "      <td>MATSAM59DB75ADB2F80</td>\n",
       "      <td>Mobiles &amp; Tablets</td>\n",
       "      <td>complete</td>\n",
       "      <td>2017-11-01</td>\n",
       "      <td>easypay_voucher</td>\n",
       "    </tr>\n",
       "    <tr>\n",
       "      <th>236</th>\n",
       "      <td>4</td>\n",
       "      <td>MATSAM59DB75ADB2F80</td>\n",
       "      <td>Mobiles &amp; Tablets</td>\n",
       "      <td>complete</td>\n",
       "      <td>2017-11-01</td>\n",
       "      <td>easypay_voucher</td>\n",
       "    </tr>\n",
       "    <tr>\n",
       "      <th>241</th>\n",
       "      <td>4</td>\n",
       "      <td>MATSAM59DB75ADB2F80</td>\n",
       "      <td>Mobiles &amp; Tablets</td>\n",
       "      <td>complete</td>\n",
       "      <td>2017-11-01</td>\n",
       "      <td>easypay_voucher</td>\n",
       "    </tr>\n",
       "    <tr>\n",
       "      <th>242</th>\n",
       "      <td>4</td>\n",
       "      <td>MATSAM59DB75ADB2F80</td>\n",
       "      <td>Mobiles &amp; Tablets</td>\n",
       "      <td>complete</td>\n",
       "      <td>2017-11-01</td>\n",
       "      <td>easypay_voucher</td>\n",
       "    </tr>\n",
       "    <tr>\n",
       "      <th>8991</th>\n",
       "      <td>282</td>\n",
       "      <td>MATSAM59DB75ADB2F80</td>\n",
       "      <td>Mobiles &amp; Tablets</td>\n",
       "      <td>complete</td>\n",
       "      <td>2017-11-01</td>\n",
       "      <td>Easypay</td>\n",
       "    </tr>\n",
       "    <tr>\n",
       "      <th>...</th>\n",
       "      <td>...</td>\n",
       "      <td>...</td>\n",
       "      <td>...</td>\n",
       "      <td>...</td>\n",
       "      <td>...</td>\n",
       "      <td>...</td>\n",
       "    </tr>\n",
       "    <tr>\n",
       "      <th>202039</th>\n",
       "      <td>84463</td>\n",
       "      <td>MATSAM59DB75ADB2F80</td>\n",
       "      <td>Mobiles &amp; Tablets</td>\n",
       "      <td>complete</td>\n",
       "      <td>2018-01-01</td>\n",
       "      <td>cod</td>\n",
       "    </tr>\n",
       "    <tr>\n",
       "      <th>202040</th>\n",
       "      <td>84463</td>\n",
       "      <td>MATSAM59DB75ADB2F80</td>\n",
       "      <td>Mobiles &amp; Tablets</td>\n",
       "      <td>complete</td>\n",
       "      <td>2018-01-01</td>\n",
       "      <td>cod</td>\n",
       "    </tr>\n",
       "    <tr>\n",
       "      <th>202045</th>\n",
       "      <td>84465</td>\n",
       "      <td>MATSAM59DB75ADB2F80</td>\n",
       "      <td>Mobiles &amp; Tablets</td>\n",
       "      <td>complete</td>\n",
       "      <td>2018-01-01</td>\n",
       "      <td>cod</td>\n",
       "    </tr>\n",
       "    <tr>\n",
       "      <th>202046</th>\n",
       "      <td>84465</td>\n",
       "      <td>MATSAM59DB75ADB2F80</td>\n",
       "      <td>Mobiles &amp; Tablets</td>\n",
       "      <td>complete</td>\n",
       "      <td>2018-01-01</td>\n",
       "      <td>cod</td>\n",
       "    </tr>\n",
       "    <tr>\n",
       "      <th>202363</th>\n",
       "      <td>84638</td>\n",
       "      <td>MATSAM59DB75ADB2F80</td>\n",
       "      <td>Mobiles &amp; Tablets</td>\n",
       "      <td>complete</td>\n",
       "      <td>2018-01-01</td>\n",
       "      <td>easypay_voucher</td>\n",
       "    </tr>\n",
       "  </tbody>\n",
       "</table>\n",
       "<p>2568 rows × 6 columns</p>\n",
       "</div>"
      ],
      "text/plain": [
       "        Customer_ID             articles      category_name    status  \\\n",
       "235               4  MATSAM59DB75ADB2F80  Mobiles & Tablets  complete   \n",
       "236               4  MATSAM59DB75ADB2F80  Mobiles & Tablets  complete   \n",
       "241               4  MATSAM59DB75ADB2F80  Mobiles & Tablets  complete   \n",
       "242               4  MATSAM59DB75ADB2F80  Mobiles & Tablets  complete   \n",
       "8991            282  MATSAM59DB75ADB2F80  Mobiles & Tablets  complete   \n",
       "...             ...                  ...                ...       ...   \n",
       "202039        84463  MATSAM59DB75ADB2F80  Mobiles & Tablets  complete   \n",
       "202040        84463  MATSAM59DB75ADB2F80  Mobiles & Tablets  complete   \n",
       "202045        84465  MATSAM59DB75ADB2F80  Mobiles & Tablets  complete   \n",
       "202046        84465  MATSAM59DB75ADB2F80  Mobiles & Tablets  complete   \n",
       "202363        84638  MATSAM59DB75ADB2F80  Mobiles & Tablets  complete   \n",
       "\n",
       "             date   payment_method  \n",
       "235    2017-11-01  easypay_voucher  \n",
       "236    2017-11-01  easypay_voucher  \n",
       "241    2017-11-01  easypay_voucher  \n",
       "242    2017-11-01  easypay_voucher  \n",
       "8991   2017-11-01          Easypay  \n",
       "...           ...              ...  \n",
       "202039 2018-01-01              cod  \n",
       "202040 2018-01-01              cod  \n",
       "202045 2018-01-01              cod  \n",
       "202046 2018-01-01              cod  \n",
       "202363 2018-01-01  easypay_voucher  \n",
       "\n",
       "[2568 rows x 6 columns]"
      ]
     },
     "execution_count": 317,
     "metadata": {},
     "output_type": "execute_result"
    }
   ],
   "source": [
    "merge_worst[merge_worst['articles']=='MATSAM59DB75ADB2F80']"
   ]
  },
  {
   "cell_type": "code",
   "execution_count": 318,
   "id": "f1b0e361",
   "metadata": {},
   "outputs": [
    {
     "data": {
      "text/plain": [
       "[(('MATSAM59DB75ADB2F80',), 2568),\n",
       " (('Al Muhafiz Sohan Halwa Almond',), 1214),\n",
       " (('kcc_krone deal',), 821),\n",
       " (('emart_00-7',), 789),\n",
       " (('unilever_Deal-6',), 589),\n",
       " (('RS_Plain Rusk Pack of 3',), 577),\n",
       " (('Rubian_U8 Smart Watch',), 534),\n",
       " (('MATSAM5A7463EE3C1A5',), 522),\n",
       " (('Al Muhafiz Sohan Halwa Walnut',), 515),\n",
       " (('RS_Plain Rusk',), 495),\n",
       " (('Telemall_MM-DR-HB-L',), 448),\n",
       " (('MATSAM5A0BFFEF4DA20',), 443),\n",
       " (('RB_Harpic Loot Sale-bf',), 417),\n",
       " (('RB_Household Bundle',), 412),\n",
       " (('emart_00-1',), 409),\n",
       " (('RS_Soan Papri-250gm',), 407),\n",
       " (('Infinix Hot 4-Gold',), 394),\n",
       " (('MATSAM5A0BFFEEED718',), 385),\n",
       " (('RS_Habshi Halwa Tin',), 384),\n",
       " (('APPNAT5A0A01860CE92',), 384)]"
      ]
     },
     "execution_count": 318,
     "metadata": {},
     "output_type": "execute_result"
    }
   ],
   "source": [
    "import itertools as it\n",
    "from collections import Counter\n",
    "\n",
    "count=Counter()\n",
    "\n",
    "for row in merge_worst['articles']:\n",
    "    row_list=row.split(',')\n",
    "    count.update(Counter(it.combinations(row_list,1)))\n",
    "    \n",
    "count.most_common(20)"
   ]
  },
  {
   "cell_type": "code",
   "execution_count": 346,
   "id": "299fa800",
   "metadata": {},
   "outputs": [],
   "source": [
    "cash_worst=(len(merge_worst[merge_worst['payment_method']=='cod'])/len(merge_worst)+\n",
    "len(merge_worst[merge_worst['payment_method']=='cashatdoorstep'])/len(merge_worst))*100"
   ]
  },
  {
   "cell_type": "code",
   "execution_count": 347,
   "id": "d4ae3af1",
   "metadata": {},
   "outputs": [],
   "source": [
    "marketing_worst=(len(merge_worst[merge_worst['payment_method']=='jazzvoucher'])/len(merge_worst) +\n",
    "len(merge_worst[merge_worst['payment_method']=='marketingexpense'])/len(merge_worst) )*100"
   ]
  },
  {
   "cell_type": "code",
   "execution_count": 348,
   "id": "6e103063",
   "metadata": {},
   "outputs": [],
   "source": [
    "credit_worst=(len(merge_worst[merge_worst['payment_method']=='customercredit'])/len(merge_worst)+\n",
    "len(merge_worst[merge_worst['payment_method']=='productcredit'])/len(merge_worst)+\n",
    "len(merge_worst[merge_worst['payment_method']=='financesettlement'])/len(merge_worst))*100"
   ]
  },
  {
   "cell_type": "code",
   "execution_count": 349,
   "id": "16cd209a",
   "metadata": {},
   "outputs": [],
   "source": [
    "card_worst=100-(cash_worst+marketing_worst+credit_worst)"
   ]
  },
  {
   "cell_type": "code",
   "execution_count": null,
   "id": "11b3315b",
   "metadata": {},
   "outputs": [],
   "source": []
  },
  {
   "cell_type": "code",
   "execution_count": null,
   "id": "eac911f0",
   "metadata": {},
   "outputs": [],
   "source": []
  },
  {
   "cell_type": "code",
   "execution_count": null,
   "id": "7cd38fe3",
   "metadata": {},
   "outputs": [],
   "source": []
  },
  {
   "cell_type": "code",
   "execution_count": null,
   "id": "2862f307",
   "metadata": {},
   "outputs": [],
   "source": []
  },
  {
   "cell_type": "code",
   "execution_count": null,
   "id": "aa283403",
   "metadata": {},
   "outputs": [],
   "source": []
  },
  {
   "cell_type": "code",
   "execution_count": 389,
   "id": "2bd8365e",
   "metadata": {},
   "outputs": [],
   "source": [
    "electro_worst=(len(merge_worst[merge_worst['category_name']=='Mobiles & Tablets'])/len(merge_worst)+\n",
    "     len(merge_worst[merge_worst['category_name']==\"Computing\"])/len(merge_worst)+\n",
    "     len(merge_worst[merge_worst['category_name']==\"Appliances\"])/len(merge_worst))*100"
   ]
  },
  {
   "cell_type": "code",
   "execution_count": 390,
   "id": "9703a8a1",
   "metadata": {},
   "outputs": [],
   "source": [
    "fashion_worst=(len(merge_worst[merge_worst['category_name']==\"Women's Fashion\"])/len(merge_worst)+\n",
    "     len(merge_worst[merge_worst['category_name']==\"Men's Fashion\"])/len(merge_worst)+\n",
    "     len(merge_worst[merge_worst['category_name']==\"Kids & Baby\"])/len(merge_worst))*100"
   ]
  },
  {
   "cell_type": "code",
   "execution_count": 391,
   "id": "3e003fe2",
   "metadata": {},
   "outputs": [],
   "source": [
    "epicery_worst=(len(merge_worst[merge_worst['category_name']==\"Soghaat\"])/len(merge_worst)+\n",
    "     len(merge_worst[merge_worst['category_name']==\"Superstore\"])/len(merge_worst)+\n",
    "     len(merge_worst[merge_worst['category_name']==\"Beauty & Grooming\"])/len(merge_worst))*100"
   ]
  },
  {
   "cell_type": "code",
   "execution_count": 392,
   "id": "551e613d",
   "metadata": {},
   "outputs": [],
   "source": [
    "home_worst=(len(merge_worst[merge_worst['category_name']==\"Home & Living\"])/len(merge_worst))*100"
   ]
  },
  {
   "cell_type": "code",
   "execution_count": 393,
   "id": "ed518995",
   "metadata": {},
   "outputs": [],
   "source": [
    "entertainement_worst=(len(merge_worst[merge_worst['category_name']=='Entertainment'])/len(merge_worst)+\n",
    "     len(merge_worst[merge_worst['category_name']==\"Health & Sports\"])/len(merge_worst))*100"
   ]
  },
  {
   "cell_type": "code",
   "execution_count": 394,
   "id": "fc159fd8",
   "metadata": {},
   "outputs": [
    {
     "data": {
      "text/plain": [
       "3.731035641034765"
      ]
     },
     "execution_count": 394,
     "metadata": {},
     "output_type": "execute_result"
    }
   ],
   "source": [
    "others_worst=100-(electro_worst+fashion_worst+epicery_worst+home_worst+entertainement_worst)\n",
    "others_worst"
   ]
  },
  {
   "cell_type": "code",
   "execution_count": 418,
   "id": "97148d63",
   "metadata": {},
   "outputs": [],
   "source": [
    "moy_electro=(electro_best+electro_good+electro_medium+electro_worst)/4\n",
    "moy_fashion=(fashion_best+fashion_good+fashion_medium+fashion_worst)/4\n",
    "moy_epicery=(epicery_best+epicery_good+epicery_medium+epicery_worst)/4\n",
    "moy_home=(home_best+home_good+home_medium+home_worst)/6\n",
    "moy_entertainement=(entertainement_best+entertainement_good+entertainement_medium+entertainement_worst)/4\n",
    "moy_others=(others_best+others_good+others_medium+others_worst)/4"
   ]
  },
  {
   "cell_type": "code",
   "execution_count": null,
   "id": "83db633e",
   "metadata": {},
   "outputs": [],
   "source": []
  },
  {
   "cell_type": "code",
   "execution_count": 419,
   "id": "57e3b2a4",
   "metadata": {},
   "outputs": [],
   "source": [
    "data_categories = {'Electronics':{'best':electro_best,'good':electro_good,'medium':electro_medium,'worst':electro_worst,'moyenne':moy_electro},\n",
    "        'Fashions':{'best':fashion_best,'good':fashion_good,'medium':fashion_medium,'worst':fashion_worst,'moyenne':moy_fashion},\n",
    "         'Stores':{'best':epicery_best,'good':epicery_good,'medium':epicery_medium,'worst':epicery_worst,'moyenne':moy_epicery},\n",
    "        'home':{'best':home_best,'good':home_good,'medium':home_medium, 'worst':home_worst,'moyenne':moy_home},\n",
    "'Entertainements':{'best':entertainement_best,'good':entertainement_good,'medium':entertainement_medium, 'worst':entertainement_worst,'moyenne':moy_entertainement},\n",
    "        'Others':{'best':others_best,'good':others_good,'medium':others_medium, 'worst':others_worst,'moyenne':moy_others}\n",
    "       }"
   ]
  },
  {
   "cell_type": "code",
   "execution_count": 420,
   "id": "6379520c",
   "metadata": {},
   "outputs": [],
   "source": [
    "stat_categories = pd.DataFrame(data=data_categories)"
   ]
  },
  {
   "cell_type": "code",
   "execution_count": null,
   "id": "58320855",
   "metadata": {},
   "outputs": [],
   "source": []
  },
  {
   "cell_type": "code",
   "execution_count": 410,
   "id": "b91aac06",
   "metadata": {},
   "outputs": [],
   "source": [
    "moy_cash=(cash_best+cash_good+cash_medium+cash_worst)/4\n",
    "moy_marketing=(marketing_best+marketing_good+marketing_medium+marketing_worst)/4\n",
    "moy_credit=(credit_best+credit_good+credit_medium+credit_worst)/4\n",
    "moy_card=(card_best+card_good+card_medium+card_worst)/4"
   ]
  },
  {
   "cell_type": "code",
   "execution_count": 411,
   "id": "9cf9728f",
   "metadata": {},
   "outputs": [],
   "source": [
    "data_payment_meth = {'cash':{'best':cash_best,'good':cash_good,'medium':cash_medium,'worst':cash_worst,'moyenne':moy_cash},\n",
    "        'marketing':{'best':marketing_best,'good':marketing_good,'medium':marketing_medium,'worst':marketing_worst,'moyenne':moy_marketing},\n",
    "         'credit':{'best':credit_best,'good':credit_good,'medium':credit_medium,'worst':credit_worst,'moyenne':moy_credit},\n",
    "        'credit cart & internet':{'best':card_best,'good':card_good,'medium':card_medium, 'worst':card_worst,'moyenne':moy_card}\n",
    "       }"
   ]
  },
  {
   "cell_type": "code",
   "execution_count": 412,
   "id": "6a1bd808",
   "metadata": {},
   "outputs": [],
   "source": [
    "stat_paymen_methode = pd.DataFrame(data=data_payment_meth)"
   ]
  },
  {
   "cell_type": "markdown",
   "id": "dd26861a",
   "metadata": {},
   "source": [
    "# stats moyen de payement\n"
   ]
  },
  {
   "cell_type": "code",
   "execution_count": 413,
   "id": "60490812",
   "metadata": {},
   "outputs": [
    {
     "data": {
      "text/html": [
       "<div>\n",
       "<style scoped>\n",
       "    .dataframe tbody tr th:only-of-type {\n",
       "        vertical-align: middle;\n",
       "    }\n",
       "\n",
       "    .dataframe tbody tr th {\n",
       "        vertical-align: top;\n",
       "    }\n",
       "\n",
       "    .dataframe thead th {\n",
       "        text-align: right;\n",
       "    }\n",
       "</style>\n",
       "<table border=\"1\" class=\"dataframe\">\n",
       "  <thead>\n",
       "    <tr style=\"text-align: right;\">\n",
       "      <th></th>\n",
       "      <th>cash</th>\n",
       "      <th>marketing</th>\n",
       "      <th>credit</th>\n",
       "      <th>credit cart &amp; internet</th>\n",
       "    </tr>\n",
       "  </thead>\n",
       "  <tbody>\n",
       "    <tr>\n",
       "      <th>best</th>\n",
       "      <td>65.715259</td>\n",
       "      <td>2.595368</td>\n",
       "      <td>1.376022</td>\n",
       "      <td>30.313351</td>\n",
       "    </tr>\n",
       "    <tr>\n",
       "      <th>good</th>\n",
       "      <td>64.341000</td>\n",
       "      <td>1.675144</td>\n",
       "      <td>1.841000</td>\n",
       "      <td>32.142857</td>\n",
       "    </tr>\n",
       "    <tr>\n",
       "      <th>medium</th>\n",
       "      <td>76.902235</td>\n",
       "      <td>5.193046</td>\n",
       "      <td>1.670806</td>\n",
       "      <td>16.233913</td>\n",
       "    </tr>\n",
       "    <tr>\n",
       "      <th>worst</th>\n",
       "      <td>63.119189</td>\n",
       "      <td>1.906996</td>\n",
       "      <td>1.849486</td>\n",
       "      <td>33.124329</td>\n",
       "    </tr>\n",
       "    <tr>\n",
       "      <th>moyenne</th>\n",
       "      <td>67.519421</td>\n",
       "      <td>2.842638</td>\n",
       "      <td>1.684328</td>\n",
       "      <td>27.953613</td>\n",
       "    </tr>\n",
       "  </tbody>\n",
       "</table>\n",
       "</div>"
      ],
      "text/plain": [
       "              cash  marketing    credit  credit cart & internet\n",
       "best     65.715259   2.595368  1.376022               30.313351\n",
       "good     64.341000   1.675144  1.841000               32.142857\n",
       "medium   76.902235   5.193046  1.670806               16.233913\n",
       "worst    63.119189   1.906996  1.849486               33.124329\n",
       "moyenne  67.519421   2.842638  1.684328               27.953613"
      ]
     },
     "execution_count": 413,
     "metadata": {},
     "output_type": "execute_result"
    }
   ],
   "source": [
    "stat_paymen_methode.head()"
   ]
  },
  {
   "cell_type": "markdown",
   "id": "7db40ad1",
   "metadata": {},
   "source": [
    "# stats catégories"
   ]
  },
  {
   "cell_type": "code",
   "execution_count": 421,
   "id": "a9cb2fae",
   "metadata": {},
   "outputs": [
    {
     "data": {
      "text/html": [
       "<div>\n",
       "<style scoped>\n",
       "    .dataframe tbody tr th:only-of-type {\n",
       "        vertical-align: middle;\n",
       "    }\n",
       "\n",
       "    .dataframe tbody tr th {\n",
       "        vertical-align: top;\n",
       "    }\n",
       "\n",
       "    .dataframe thead th {\n",
       "        text-align: right;\n",
       "    }\n",
       "</style>\n",
       "<table border=\"1\" class=\"dataframe\">\n",
       "  <thead>\n",
       "    <tr style=\"text-align: right;\">\n",
       "      <th></th>\n",
       "      <th>Electronics</th>\n",
       "      <th>Fashions</th>\n",
       "      <th>Stores</th>\n",
       "      <th>home</th>\n",
       "      <th>Entertainements</th>\n",
       "      <th>Others</th>\n",
       "    </tr>\n",
       "  </thead>\n",
       "  <tbody>\n",
       "    <tr>\n",
       "      <th>best</th>\n",
       "      <td>27.132153</td>\n",
       "      <td>27.404632</td>\n",
       "      <td>30.960490</td>\n",
       "      <td>4.604905</td>\n",
       "      <td>6.130790</td>\n",
       "      <td>3.767030</td>\n",
       "    </tr>\n",
       "    <tr>\n",
       "      <th>good</th>\n",
       "      <td>26.089120</td>\n",
       "      <td>29.428350</td>\n",
       "      <td>27.675807</td>\n",
       "      <td>4.489164</td>\n",
       "      <td>8.419947</td>\n",
       "      <td>3.897612</td>\n",
       "    </tr>\n",
       "    <tr>\n",
       "      <th>medium</th>\n",
       "      <td>21.697900</td>\n",
       "      <td>30.277715</td>\n",
       "      <td>32.377512</td>\n",
       "      <td>5.034997</td>\n",
       "      <td>5.080154</td>\n",
       "      <td>5.531723</td>\n",
       "    </tr>\n",
       "    <tr>\n",
       "      <th>worst</th>\n",
       "      <td>29.741917</td>\n",
       "      <td>30.695669</td>\n",
       "      <td>23.530310</td>\n",
       "      <td>4.805407</td>\n",
       "      <td>7.495661</td>\n",
       "      <td>3.731036</td>\n",
       "    </tr>\n",
       "    <tr>\n",
       "      <th>moyenne</th>\n",
       "      <td>26.165272</td>\n",
       "      <td>29.451592</td>\n",
       "      <td>28.636030</td>\n",
       "      <td>3.155745</td>\n",
       "      <td>6.781638</td>\n",
       "      <td>4.231850</td>\n",
       "    </tr>\n",
       "  </tbody>\n",
       "</table>\n",
       "</div>"
      ],
      "text/plain": [
       "         Electronics   Fashions     Stores      home  Entertainements  \\\n",
       "best       27.132153  27.404632  30.960490  4.604905         6.130790   \n",
       "good       26.089120  29.428350  27.675807  4.489164         8.419947   \n",
       "medium     21.697900  30.277715  32.377512  5.034997         5.080154   \n",
       "worst      29.741917  30.695669  23.530310  4.805407         7.495661   \n",
       "moyenne    26.165272  29.451592  28.636030  3.155745         6.781638   \n",
       "\n",
       "           Others  \n",
       "best     3.767030  \n",
       "good     3.897612  \n",
       "medium   5.531723  \n",
       "worst    3.731036  \n",
       "moyenne  4.231850  "
      ]
     },
     "execution_count": 421,
     "metadata": {},
     "output_type": "execute_result"
    }
   ],
   "source": [
    "stat_categories.head()"
   ]
  },
  {
   "cell_type": "code",
   "execution_count": null,
   "id": "19ffb29d",
   "metadata": {},
   "outputs": [],
   "source": []
  },
  {
   "cell_type": "code",
   "execution_count": null,
   "id": "0fea1036",
   "metadata": {},
   "outputs": [],
   "source": []
  },
  {
   "cell_type": "code",
   "execution_count": null,
   "id": "42efc7ad",
   "metadata": {},
   "outputs": [],
   "source": []
  },
  {
   "cell_type": "raw",
   "id": "467fc09a",
   "metadata": {},
   "source": [
    "==>Dates des Fêtes et jours fériers de l'année 2017\n",
    "premier et 30 janvier\n",
    "3 jours en fevrier(jours de cachemirs\n",
    "3 j mars: holi et fete du Pakistan\n",
    "5 j avril: vacances optionnelsVO et paques\n",
    "3j mai:VO et JF\n",
    "le mois de juin : debut vacances d'été 01/06 jusqu'à 01/08 et plusieurs JF avec 5j VO \n",
    "1 JF en juillet\n",
    "1JF 3VO 2VH pour le mois d'Aout\n",
    "5J VO et fetes debut et fin mois de septembre: en tout 10j\n",
    "1JF 3J VO en mois de Octobre\n",
    "plusieus fetes novembre et decembre\n",
    "\n",
    "==>200,81 millions d'habitants, dont 44,61% utilisaient Internet\n",
    "==>abonnements à Internet a considérablement diminué et l'accès à Internet mobile a augmenté\n",
    "==>En mars 2017, le Pakistan comptait plus de 137 millions d'utilisateurs de téléphones mobiles, selon The Express Tribune\n",
    "==>Les smartphones sont le support commercial préféré des Pakistanais, au lieu des ordinateurs portables et des ordinateurs de bureau\n",
    "==> le gouvernement prévoyant d'accroître la connectivité\n",
    "==>18 millions d'utilisateurs de téléphones intelligents en 2018\n",
    "==>Le marché du e-commerce a dépassé le milliard de dollars fin 2018 en raison des nouveaux marchands de paiement en ligne et de la pénétration du haut débit (The Express Tribune).\n",
    "==>absence d’options de paiement en ligne: un axe à developper\n",
    "==> le nombre croissant de jeunes et de consommateurs urbains alimente le boom de la vente au détail sur Internet : si on peut avoir une idée sur le type de clientelle et son age\n",
    "==>cartes de débit ou de crédit ne représentaient qu'une petite partie de toutes les transactions\n",
    "==>il y avait 5 millions d'acheteurs en ligne dans le pays en 2017, 2 000 détaillants en ligne, dont environ 375 acceptaient les paiements numériques\n",
    "==>plus de 90% des transactions étaient payées en espèces à la livraison\n",
    "==>Les produits mobiles et électroniques constituent depuis quelques années la catégorie de produits la plus populaire parmi les acheteurs en ligne\n",
    "==>en 2017, 40% des ventes ont été générées par des clients ayant commandé des produits de beauté, des produits d'épicerie et des articles ménagers."
   ]
  },
  {
   "cell_type": "raw",
   "id": "5ef5c049",
   "metadata": {},
   "source": [
    "* il y a toujours les mobiles et tablettes qui sont en top des ventes, qui peut expliquer la faible frequence des clients (une fois/an) car la durée du vie de ces produits c'est un an minimum\n",
    "\n",
    "*'mobiles et tablettes' est un point commun entre les 4 segments et dont l'achat se concentre surtout \n",
    "* les produits ménagers sont en dernière positions avec la nourritures \n",
    "* pour la nourritures, ce qui se vend le plus c'est les gateaux pakistanai 'soghaat '"
   ]
  },
  {
   "cell_type": "markdown",
   "id": "b6bf4bf2",
   "metadata": {},
   "source": [
    "# Etude détaillée des status"
   ]
  }
 ],
 "metadata": {
  "kernelspec": {
   "display_name": "Python 3 (ipykernel)",
   "language": "python",
   "name": "python3"
  },
  "language_info": {
   "codemirror_mode": {
    "name": "ipython",
    "version": 3
   },
   "file_extension": ".py",
   "mimetype": "text/x-python",
   "name": "python",
   "nbconvert_exporter": "python",
   "pygments_lexer": "ipython3",
   "version": "3.9.7"
  }
 },
 "nbformat": 4,
 "nbformat_minor": 5
}
